{
 "cells": [
  {
   "cell_type": "markdown",
   "id": "dea3c454",
   "metadata": {},
   "source": [
    "# Welcome to NumPy Tutorial "
   ]
  },
  {
   "cell_type": "code",
   "execution_count": 1,
   "id": "f9cd5bee",
   "metadata": {},
   "outputs": [],
   "source": [
    "import numpy as np"
   ]
  },
  {
   "cell_type": "code",
   "execution_count": 2,
   "id": "0d410d5d",
   "metadata": {},
   "outputs": [],
   "source": [
    "myArr = np.array([3, 10, 5500000, 15])"
   ]
  },
  {
   "cell_type": "code",
   "execution_count": 3,
   "id": "00533ba2",
   "metadata": {},
   "outputs": [
    {
     "data": {
      "text/plain": [
       "array([      3,      10, 5500000,      15])"
      ]
     },
     "execution_count": 3,
     "metadata": {},
     "output_type": "execute_result"
    }
   ],
   "source": [
    "myArr"
   ]
  },
  {
   "cell_type": "code",
   "execution_count": 4,
   "id": "89fed594",
   "metadata": {},
   "outputs": [],
   "source": [
    "myArr = np.array([3, 10, 5500000, 15], np.int8) #should not be large number"
   ]
  },
  {
   "cell_type": "code",
   "execution_count": 5,
   "id": "3d0bf2ed",
   "metadata": {},
   "outputs": [
    {
     "data": {
      "text/plain": [
       "array([ 3, 10, 96, 15], dtype=int8)"
      ]
     },
     "execution_count": 5,
     "metadata": {},
     "output_type": "execute_result"
    }
   ],
   "source": [
    "myArr #will give error to print the large number"
   ]
  },
  {
   "cell_type": "code",
   "execution_count": 6,
   "id": "bd4ec65d",
   "metadata": {},
   "outputs": [],
   "source": [
    "myArr = np.array([3, 10, 5500000, 15], np.int64) #can hold large number"
   ]
  },
  {
   "cell_type": "code",
   "execution_count": 7,
   "id": "9f7c1026",
   "metadata": {},
   "outputs": [
    {
     "data": {
      "text/plain": [
       "array([      3,      10, 5500000,      15], dtype=int64)"
      ]
     },
     "execution_count": 7,
     "metadata": {},
     "output_type": "execute_result"
    }
   ],
   "source": [
    "myArr"
   ]
  },
  {
   "cell_type": "code",
   "execution_count": 8,
   "id": "2ed80703",
   "metadata": {},
   "outputs": [],
   "source": [
    "# myArr[0,1] \n",
    "# gives error as the original array is 1D array, where we wanted to find an element for 2D array"
   ]
  },
  {
   "cell_type": "code",
   "execution_count": 9,
   "id": "f1308bce",
   "metadata": {},
   "outputs": [
    {
     "data": {
      "text/plain": [
       "5500000"
      ]
     },
     "execution_count": 9,
     "metadata": {},
     "output_type": "execute_result"
    }
   ],
   "source": [
    "myArr[2]"
   ]
  },
  {
   "cell_type": "code",
   "execution_count": 10,
   "id": "8be45ed9",
   "metadata": {},
   "outputs": [],
   "source": [
    "arr = np.array([[20, 50, 1, 66]], np.int32) #2D array"
   ]
  },
  {
   "cell_type": "code",
   "execution_count": 11,
   "id": "b4bded79",
   "metadata": {},
   "outputs": [
    {
     "data": {
      "text/plain": [
       "1"
      ]
     },
     "execution_count": 11,
     "metadata": {},
     "output_type": "execute_result"
    }
   ],
   "source": [
    "arr[0,2] #getting an element from 2D array"
   ]
  },
  {
   "cell_type": "code",
   "execution_count": 12,
   "id": "c09398b3",
   "metadata": {},
   "outputs": [],
   "source": [
    "arr[0,2] = 100 #changing the value of the element with 0th row and 3rd column"
   ]
  },
  {
   "cell_type": "code",
   "execution_count": 13,
   "id": "d61e7095",
   "metadata": {},
   "outputs": [
    {
     "data": {
      "text/plain": [
       "array([[ 20,  50, 100,  66]])"
      ]
     },
     "execution_count": 13,
     "metadata": {},
     "output_type": "execute_result"
    }
   ],
   "source": [
    "arr"
   ]
  },
  {
   "cell_type": "code",
   "execution_count": 14,
   "id": "cf8f9594",
   "metadata": {},
   "outputs": [
    {
     "data": {
      "text/plain": [
       "(1, 4)"
      ]
     },
     "execution_count": 14,
     "metadata": {},
     "output_type": "execute_result"
    }
   ],
   "source": [
    "arr.shape #row vs column details"
   ]
  },
  {
   "cell_type": "code",
   "execution_count": 15,
   "id": "0831bf13",
   "metadata": {},
   "outputs": [
    {
     "data": {
      "text/plain": [
       "dtype('int32')"
      ]
     },
     "execution_count": 15,
     "metadata": {},
     "output_type": "execute_result"
    }
   ],
   "source": [
    "arr.dtype"
   ]
  },
  {
   "cell_type": "code",
   "execution_count": 16,
   "id": "a8e48e7a",
   "metadata": {},
   "outputs": [
    {
     "data": {
      "text/plain": [
       "'\\nThere are 6 general mechanisms for creating arrays:\\n\\n- Conversion from other Python structures (i.e. lists and tuples)\\n\\n- Intrinsic NumPy array creation functions (e.g. arange, ones, zeros, etc.)\\n\\n- Replicating, joining, or mutating existing arrays\\n\\n- Reading arrays from disk, either from standard or custom formats\\n\\n- Creating arrays from raw bytes through the use of strings or buffers\\n\\n- Use of special library functions (e.g., random)\\n'"
      ]
     },
     "execution_count": 16,
     "metadata": {},
     "output_type": "execute_result"
    }
   ],
   "source": [
    "\"\"\"\n",
    "There are 6 general mechanisms for creating arrays:\n",
    "\n",
    "- Conversion from other Python structures (i.e. lists and tuples)\n",
    "\n",
    "- Intrinsic NumPy array creation functions (e.g. arange, ones, zeros, etc.)\n",
    "\n",
    "- Replicating, joining, or mutating existing arrays\n",
    "\n",
    "- Reading arrays from disk, either from standard or custom formats\n",
    "\n",
    "- Creating arrays from raw bytes through the use of strings or buffers\n",
    "\n",
    "- Use of special library functions (e.g., random)\n",
    "\"\"\""
   ]
  },
  {
   "cell_type": "markdown",
   "id": "abe8f42c",
   "metadata": {},
   "source": [
    "### Array creation: Conversion from other Python structures (i.e. lists and tuples)"
   ]
  },
  {
   "cell_type": "code",
   "execution_count": 17,
   "id": "ab32fd3d",
   "metadata": {},
   "outputs": [],
   "source": [
    "listArray = np.array([[1, 2, 3], [55, 25, 85], [6, 58, 4]])"
   ]
  },
  {
   "cell_type": "code",
   "execution_count": 18,
   "id": "ea072acd",
   "metadata": {},
   "outputs": [
    {
     "data": {
      "text/plain": [
       "array([[ 1,  2,  3],\n",
       "       [55, 25, 85],\n",
       "       [ 6, 58,  4]])"
      ]
     },
     "execution_count": 18,
     "metadata": {},
     "output_type": "execute_result"
    }
   ],
   "source": [
    "listArray"
   ]
  },
  {
   "cell_type": "code",
   "execution_count": 19,
   "id": "47ef524d",
   "metadata": {},
   "outputs": [
    {
     "data": {
      "text/plain": [
       "dtype('int32')"
      ]
     },
     "execution_count": 19,
     "metadata": {},
     "output_type": "execute_result"
    }
   ],
   "source": [
    "listArray.dtype"
   ]
  },
  {
   "cell_type": "code",
   "execution_count": 20,
   "id": "24d3bc88",
   "metadata": {},
   "outputs": [
    {
     "data": {
      "text/plain": [
       "(3, 3)"
      ]
     },
     "execution_count": 20,
     "metadata": {},
     "output_type": "execute_result"
    }
   ],
   "source": [
    "listArray.shape"
   ]
  },
  {
   "cell_type": "code",
   "execution_count": 21,
   "id": "1b5a8a92",
   "metadata": {},
   "outputs": [
    {
     "data": {
      "text/plain": [
       "9"
      ]
     },
     "execution_count": 21,
     "metadata": {},
     "output_type": "execute_result"
    }
   ],
   "source": [
    "listArray.size"
   ]
  },
  {
   "cell_type": "code",
   "execution_count": 22,
   "id": "2ae44018",
   "metadata": {},
   "outputs": [
    {
     "data": {
      "text/plain": [
       "array({88, 25, 20}, dtype=object)"
      ]
     },
     "execution_count": 22,
     "metadata": {},
     "output_type": "execute_result"
    }
   ],
   "source": [
    "np.array({25, 20, 88}) #converting data type to object"
   ]
  },
  {
   "cell_type": "code",
   "execution_count": null,
   "id": "46154298",
   "metadata": {},
   "outputs": [],
   "source": []
  }
 ],
 "metadata": {
  "kernelspec": {
   "display_name": "Python 3 (ipykernel)",
   "language": "python",
   "name": "python3"
  },
  "language_info": {
   "codemirror_mode": {
    "name": "ipython",
    "version": 3
   },
   "file_extension": ".py",
   "mimetype": "text/x-python",
   "name": "python",
   "nbconvert_exporter": "python",
   "pygments_lexer": "ipython3",
   "version": "3.8.5"
  }
 },
 "nbformat": 4,
 "nbformat_minor": 5
}
