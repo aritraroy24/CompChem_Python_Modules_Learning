{
 "cells": [
  {
   "cell_type": "markdown",
   "id": "dea3c454",
   "metadata": {},
   "source": [
    "# Learning NumPy Module"
   ]
  },
  {
   "cell_type": "code",
   "execution_count": 1,
   "id": "f9cd5bee",
   "metadata": {},
   "outputs": [],
   "source": [
    "import numpy as np"
   ]
  },
  {
   "cell_type": "code",
   "execution_count": 2,
   "id": "0d410d5d",
   "metadata": {},
   "outputs": [],
   "source": [
    "myArr = np.array([3, 10, 5500000, 15])"
   ]
  },
  {
   "cell_type": "code",
   "execution_count": 3,
   "id": "00533ba2",
   "metadata": {},
   "outputs": [
    {
     "data": {
      "text/plain": [
       "array([      3,      10, 5500000,      15])"
      ]
     },
     "execution_count": 3,
     "metadata": {},
     "output_type": "execute_result"
    }
   ],
   "source": [
    "myArr"
   ]
  },
  {
   "cell_type": "code",
   "execution_count": 4,
   "id": "89fed594",
   "metadata": {},
   "outputs": [],
   "source": [
    "myArr = np.array([3, 10, 5500000, 15], np.int8) #should not be large number"
   ]
  },
  {
   "cell_type": "code",
   "execution_count": 5,
   "id": "3d0bf2ed",
   "metadata": {},
   "outputs": [
    {
     "data": {
      "text/plain": [
       "array([ 3, 10, 96, 15], dtype=int8)"
      ]
     },
     "execution_count": 5,
     "metadata": {},
     "output_type": "execute_result"
    }
   ],
   "source": [
    "myArr #will give error to print the large number"
   ]
  },
  {
   "cell_type": "code",
   "execution_count": 6,
   "id": "bd4ec65d",
   "metadata": {},
   "outputs": [],
   "source": [
    "myArr = np.array([3, 10, 5500000, 15], np.int64) #can hold large number"
   ]
  },
  {
   "cell_type": "code",
   "execution_count": 7,
   "id": "9f7c1026",
   "metadata": {},
   "outputs": [
    {
     "data": {
      "text/plain": [
       "array([      3,      10, 5500000,      15], dtype=int64)"
      ]
     },
     "execution_count": 7,
     "metadata": {},
     "output_type": "execute_result"
    }
   ],
   "source": [
    "myArr"
   ]
  },
  {
   "cell_type": "code",
   "execution_count": 8,
   "id": "2ed80703",
   "metadata": {},
   "outputs": [],
   "source": [
    "# myArr[0,1] \n",
    "# gives error as the original array is 1D array, where we wanted to find an element for 2D array"
   ]
  },
  {
   "cell_type": "code",
   "execution_count": 9,
   "id": "f1308bce",
   "metadata": {},
   "outputs": [
    {
     "data": {
      "text/plain": [
       "5500000"
      ]
     },
     "execution_count": 9,
     "metadata": {},
     "output_type": "execute_result"
    }
   ],
   "source": [
    "myArr[2]"
   ]
  },
  {
   "cell_type": "code",
   "execution_count": 10,
   "id": "8be45ed9",
   "metadata": {},
   "outputs": [],
   "source": [
    "arr = np.array([[20, 50, 1, 66]], np.int32) #2D array"
   ]
  },
  {
   "cell_type": "code",
   "execution_count": 11,
   "id": "b4bded79",
   "metadata": {},
   "outputs": [
    {
     "data": {
      "text/plain": [
       "1"
      ]
     },
     "execution_count": 11,
     "metadata": {},
     "output_type": "execute_result"
    }
   ],
   "source": [
    "arr[0,2] #getting an element from 2D array"
   ]
  },
  {
   "cell_type": "code",
   "execution_count": 12,
   "id": "c09398b3",
   "metadata": {},
   "outputs": [],
   "source": [
    "arr[0,2] = 100 #changing the value of the element with 0th row and 3rd column"
   ]
  },
  {
   "cell_type": "code",
   "execution_count": 13,
   "id": "d61e7095",
   "metadata": {},
   "outputs": [
    {
     "data": {
      "text/plain": [
       "array([[ 20,  50, 100,  66]])"
      ]
     },
     "execution_count": 13,
     "metadata": {},
     "output_type": "execute_result"
    }
   ],
   "source": [
    "arr"
   ]
  },
  {
   "cell_type": "code",
   "execution_count": 14,
   "id": "cf8f9594",
   "metadata": {},
   "outputs": [
    {
     "data": {
      "text/plain": [
       "(1, 4)"
      ]
     },
     "execution_count": 14,
     "metadata": {},
     "output_type": "execute_result"
    }
   ],
   "source": [
    "arr.shape #row vs column details"
   ]
  },
  {
   "cell_type": "code",
   "execution_count": 15,
   "id": "0831bf13",
   "metadata": {},
   "outputs": [
    {
     "data": {
      "text/plain": [
       "dtype('int32')"
      ]
     },
     "execution_count": 15,
     "metadata": {},
     "output_type": "execute_result"
    }
   ],
   "source": [
    "arr.dtype"
   ]
  },
  {
   "cell_type": "code",
   "execution_count": 16,
   "id": "a8e48e7a",
   "metadata": {},
   "outputs": [
    {
     "data": {
      "text/plain": [
       "'\\nThere are 6 general mechanisms for creating arrays:\\n\\n- Conversion from other Python structures (i.e. lists and tuples)\\n\\n- Intrinsic NumPy array creation functions (e.g. arange, ones, zeros, etc.)\\n\\n- Replicating, joining, or mutating existing arrays\\n\\n- Reading arrays from disk, either from standard or custom formats\\n\\n- Creating arrays from raw bytes through the use of strings or buffers\\n\\n- Use of special library functions (e.g., random)\\n'"
      ]
     },
     "execution_count": 16,
     "metadata": {},
     "output_type": "execute_result"
    }
   ],
   "source": [
    "\"\"\"\n",
    "There are 6 general mechanisms for creating arrays:\n",
    "\n",
    "- Conversion from other Python structures (i.e. lists and tuples)\n",
    "\n",
    "- Intrinsic NumPy array creation functions (e.g. arange, ones, zeros, etc.)\n",
    "\n",
    "- Replicating, joining, or mutating existing arrays\n",
    "\n",
    "- Reading arrays from disk, either from standard or custom formats\n",
    "\n",
    "- Creating arrays from raw bytes through the use of strings or buffers\n",
    "\n",
    "- Use of special library functions (e.g., random)\n",
    "\"\"\""
   ]
  },
  {
   "cell_type": "markdown",
   "id": "abe8f42c",
   "metadata": {},
   "source": [
    "### Array: Creation, Different Attributes & Functions"
   ]
  },
  {
   "cell_type": "code",
   "execution_count": 17,
   "id": "ab32fd3d",
   "metadata": {},
   "outputs": [],
   "source": [
    "listArray = np.array([[1, 2, 3], [55, 25, 85], [6, 58, 4]])"
   ]
  },
  {
   "cell_type": "code",
   "execution_count": 18,
   "id": "ea072acd",
   "metadata": {},
   "outputs": [
    {
     "data": {
      "text/plain": [
       "array([[ 1,  2,  3],\n",
       "       [55, 25, 85],\n",
       "       [ 6, 58,  4]])"
      ]
     },
     "execution_count": 18,
     "metadata": {},
     "output_type": "execute_result"
    }
   ],
   "source": [
    "listArray"
   ]
  },
  {
   "cell_type": "code",
   "execution_count": 19,
   "id": "47ef524d",
   "metadata": {},
   "outputs": [
    {
     "data": {
      "text/plain": [
       "dtype('int32')"
      ]
     },
     "execution_count": 19,
     "metadata": {},
     "output_type": "execute_result"
    }
   ],
   "source": [
    "listArray.dtype"
   ]
  },
  {
   "cell_type": "code",
   "execution_count": 20,
   "id": "24d3bc88",
   "metadata": {},
   "outputs": [
    {
     "data": {
      "text/plain": [
       "(3, 3)"
      ]
     },
     "execution_count": 20,
     "metadata": {},
     "output_type": "execute_result"
    }
   ],
   "source": [
    "listArray.shape"
   ]
  },
  {
   "cell_type": "code",
   "execution_count": 21,
   "id": "1b5a8a92",
   "metadata": {},
   "outputs": [
    {
     "data": {
      "text/plain": [
       "9"
      ]
     },
     "execution_count": 21,
     "metadata": {},
     "output_type": "execute_result"
    }
   ],
   "source": [
    "listArray.size"
   ]
  },
  {
   "cell_type": "code",
   "execution_count": 22,
   "id": "2ae44018",
   "metadata": {},
   "outputs": [
    {
     "data": {
      "text/plain": [
       "array({88, 25, 20}, dtype=object)"
      ]
     },
     "execution_count": 22,
     "metadata": {},
     "output_type": "execute_result"
    }
   ],
   "source": [
    "np.array({25, 20, 88}) #converting data type to object"
   ]
  },
  {
   "cell_type": "code",
   "execution_count": 23,
   "id": "7883b82b",
   "metadata": {},
   "outputs": [],
   "source": [
    "zeros = np.zeros ((2, 5))"
   ]
  },
  {
   "cell_type": "code",
   "execution_count": 24,
   "id": "01c08734",
   "metadata": {},
   "outputs": [
    {
     "data": {
      "text/plain": [
       "array([[0., 0., 0., 0., 0.],\n",
       "       [0., 0., 0., 0., 0.]])"
      ]
     },
     "execution_count": 24,
     "metadata": {},
     "output_type": "execute_result"
    }
   ],
   "source": [
    "zeros  # creates an array of (2,5)"
   ]
  },
  {
   "cell_type": "code",
   "execution_count": 25,
   "id": "171d1bf6",
   "metadata": {},
   "outputs": [
    {
     "data": {
      "text/plain": [
       "dtype('float64')"
      ]
     },
     "execution_count": 25,
     "metadata": {},
     "output_type": "execute_result"
    }
   ],
   "source": [
    "zeros.dtype"
   ]
  },
  {
   "cell_type": "code",
   "execution_count": 26,
   "id": "ea981c02",
   "metadata": {},
   "outputs": [
    {
     "data": {
      "text/plain": [
       "(2, 5)"
      ]
     },
     "execution_count": 26,
     "metadata": {},
     "output_type": "execute_result"
    }
   ],
   "source": [
    "zeros.shape"
   ]
  },
  {
   "cell_type": "code",
   "execution_count": 27,
   "id": "cbe31e5e",
   "metadata": {},
   "outputs": [],
   "source": [
    "rng = np.arange(12)  # creates a NumPy array in the range of 0 to (n-1)"
   ]
  },
  {
   "cell_type": "code",
   "execution_count": 28,
   "id": "02dc3d1e",
   "metadata": {},
   "outputs": [
    {
     "data": {
      "text/plain": [
       "array([ 0,  1,  2,  3,  4,  5,  6,  7,  8,  9, 10, 11])"
      ]
     },
     "execution_count": 28,
     "metadata": {},
     "output_type": "execute_result"
    }
   ],
   "source": [
    "rng"
   ]
  },
  {
   "cell_type": "code",
   "execution_count": 29,
   "id": "d928a512",
   "metadata": {},
   "outputs": [],
   "source": [
    "lspace = np.linspace (1, 50, 10)  # give 10 numbers between range 1 to 50 having equal diff between any two"
   ]
  },
  {
   "cell_type": "code",
   "execution_count": 30,
   "id": "baee9332",
   "metadata": {},
   "outputs": [
    {
     "data": {
      "text/plain": [
       "array([ 1.        ,  6.44444444, 11.88888889, 17.33333333, 22.77777778,\n",
       "       28.22222222, 33.66666667, 39.11111111, 44.55555556, 50.        ])"
      ]
     },
     "execution_count": 30,
     "metadata": {},
     "output_type": "execute_result"
    }
   ],
   "source": [
    "lspace"
   ]
  },
  {
   "cell_type": "code",
   "execution_count": 31,
   "id": "8c20c5a1",
   "metadata": {},
   "outputs": [],
   "source": [
    "emp = np.empty((4 , 6))  # assigns an (4, 6) array with random elements"
   ]
  },
  {
   "cell_type": "code",
   "execution_count": 32,
   "id": "99d4014a",
   "metadata": {},
   "outputs": [
    {
     "data": {
      "text/plain": [
       "array([[3.21444956e-305, 1.69121096e-306, 1.11261434e-306,\n",
       "        4.45055939e-308, 6.23061763e-307, 6.23053954e-307],\n",
       "       [9.34609790e-307, 8.45593934e-307, 9.34600963e-307,\n",
       "        1.86921143e-306, 6.23061763e-307, 8.90104239e-307],\n",
       "       [6.89804132e-307, 1.33512376e-306, 6.89806849e-307,\n",
       "        9.34609790e-307, 1.69121096e-306, 1.05700515e-307],\n",
       "       [1.11261774e-306, 8.34423917e-308, 8.34445138e-308,\n",
       "        1.37959129e-306, 1.02360528e-306, 3.20552953e-317]])"
      ]
     },
     "execution_count": 32,
     "metadata": {},
     "output_type": "execute_result"
    }
   ],
   "source": [
    "emp"
   ]
  },
  {
   "cell_type": "code",
   "execution_count": 33,
   "id": "55286741",
   "metadata": {},
   "outputs": [],
   "source": [
    "emp_like = np.empty_like(lspace)  # return a new array with the same shape and type as a given array which can be initialized later"
   ]
  },
  {
   "cell_type": "code",
   "execution_count": 34,
   "id": "6408b084",
   "metadata": {},
   "outputs": [
    {
     "data": {
      "text/plain": [
       "array([ 1.        ,  6.44444444, 11.88888889, 17.33333333, 22.77777778,\n",
       "       28.22222222, 33.66666667, 39.11111111, 44.55555556, 50.        ])"
      ]
     },
     "execution_count": 34,
     "metadata": {},
     "output_type": "execute_result"
    }
   ],
   "source": [
    "emp_like"
   ]
  },
  {
   "cell_type": "code",
   "execution_count": 35,
   "id": "e7849034",
   "metadata": {},
   "outputs": [],
   "source": [
    "identity = np.identity(45)  # creates (45,45) array of identity element"
   ]
  },
  {
   "cell_type": "code",
   "execution_count": 36,
   "id": "e90ef6d8",
   "metadata": {},
   "outputs": [
    {
     "data": {
      "text/plain": [
       "array([[1., 0., 0., ..., 0., 0., 0.],\n",
       "       [0., 1., 0., ..., 0., 0., 0.],\n",
       "       [0., 0., 1., ..., 0., 0., 0.],\n",
       "       ...,\n",
       "       [0., 0., 0., ..., 1., 0., 0.],\n",
       "       [0., 0., 0., ..., 0., 1., 0.],\n",
       "       [0., 0., 0., ..., 0., 0., 1.]])"
      ]
     },
     "execution_count": 36,
     "metadata": {},
     "output_type": "execute_result"
    }
   ],
   "source": [
    "identity"
   ]
  },
  {
   "cell_type": "code",
   "execution_count": 37,
   "id": "cc4d0e2a",
   "metadata": {},
   "outputs": [],
   "source": [
    "arr = np.arange (99)"
   ]
  },
  {
   "cell_type": "code",
   "execution_count": 38,
   "id": "c59f689b",
   "metadata": {},
   "outputs": [
    {
     "data": {
      "text/plain": [
       "array([ 0,  1,  2,  3,  4,  5,  6,  7,  8,  9, 10, 11, 12, 13, 14, 15, 16,\n",
       "       17, 18, 19, 20, 21, 22, 23, 24, 25, 26, 27, 28, 29, 30, 31, 32, 33,\n",
       "       34, 35, 36, 37, 38, 39, 40, 41, 42, 43, 44, 45, 46, 47, 48, 49, 50,\n",
       "       51, 52, 53, 54, 55, 56, 57, 58, 59, 60, 61, 62, 63, 64, 65, 66, 67,\n",
       "       68, 69, 70, 71, 72, 73, 74, 75, 76, 77, 78, 79, 80, 81, 82, 83, 84,\n",
       "       85, 86, 87, 88, 89, 90, 91, 92, 93, 94, 95, 96, 97, 98])"
      ]
     },
     "execution_count": 38,
     "metadata": {},
     "output_type": "execute_result"
    }
   ],
   "source": [
    "arr"
   ]
  },
  {
   "cell_type": "code",
   "execution_count": 39,
   "id": "686a5bdd",
   "metadata": {},
   "outputs": [],
   "source": [
    "arr = arr.reshape (3, 33)  # reshapes the (1, 99) array to (3, 33)"
   ]
  },
  {
   "cell_type": "code",
   "execution_count": 40,
   "id": "5113365e",
   "metadata": {},
   "outputs": [
    {
     "data": {
      "text/plain": [
       "array([[ 0,  1,  2,  3,  4,  5,  6,  7,  8,  9, 10, 11, 12, 13, 14, 15,\n",
       "        16, 17, 18, 19, 20, 21, 22, 23, 24, 25, 26, 27, 28, 29, 30, 31,\n",
       "        32],\n",
       "       [33, 34, 35, 36, 37, 38, 39, 40, 41, 42, 43, 44, 45, 46, 47, 48,\n",
       "        49, 50, 51, 52, 53, 54, 55, 56, 57, 58, 59, 60, 61, 62, 63, 64,\n",
       "        65],\n",
       "       [66, 67, 68, 69, 70, 71, 72, 73, 74, 75, 76, 77, 78, 79, 80, 81,\n",
       "        82, 83, 84, 85, 86, 87, 88, 89, 90, 91, 92, 93, 94, 95, 96, 97,\n",
       "        98]])"
      ]
     },
     "execution_count": 40,
     "metadata": {},
     "output_type": "execute_result"
    }
   ],
   "source": [
    "arr"
   ]
  },
  {
   "cell_type": "code",
   "execution_count": 41,
   "id": "1ab473db",
   "metadata": {},
   "outputs": [],
   "source": [
    "arr = arr.ravel()  # gives 1D array"
   ]
  },
  {
   "cell_type": "code",
   "execution_count": 42,
   "id": "facd5594",
   "metadata": {},
   "outputs": [
    {
     "data": {
      "text/plain": [
       "array([ 0,  1,  2,  3,  4,  5,  6,  7,  8,  9, 10, 11, 12, 13, 14, 15, 16,\n",
       "       17, 18, 19, 20, 21, 22, 23, 24, 25, 26, 27, 28, 29, 30, 31, 32, 33,\n",
       "       34, 35, 36, 37, 38, 39, 40, 41, 42, 43, 44, 45, 46, 47, 48, 49, 50,\n",
       "       51, 52, 53, 54, 55, 56, 57, 58, 59, 60, 61, 62, 63, 64, 65, 66, 67,\n",
       "       68, 69, 70, 71, 72, 73, 74, 75, 76, 77, 78, 79, 80, 81, 82, 83, 84,\n",
       "       85, 86, 87, 88, 89, 90, 91, 92, 93, 94, 95, 96, 97, 98])"
      ]
     },
     "execution_count": 42,
     "metadata": {},
     "output_type": "execute_result"
    }
   ],
   "source": [
    "arr"
   ]
  },
  {
   "cell_type": "code",
   "execution_count": 43,
   "id": "496c0d6c",
   "metadata": {},
   "outputs": [],
   "source": [
    "x = [[1, 2, 3], [4, 5, 6], [7, 1, 0]]"
   ]
  },
  {
   "cell_type": "code",
   "execution_count": 44,
   "id": "cf0c7a2c",
   "metadata": {},
   "outputs": [],
   "source": [
    "ar = np.array(x)"
   ]
  },
  {
   "cell_type": "code",
   "execution_count": 45,
   "id": "4767a328",
   "metadata": {},
   "outputs": [
    {
     "data": {
      "text/plain": [
       "array([[1, 2, 3],\n",
       "       [4, 5, 6],\n",
       "       [7, 1, 0]])"
      ]
     },
     "execution_count": 45,
     "metadata": {},
     "output_type": "execute_result"
    }
   ],
   "source": [
    "ar"
   ]
  },
  {
   "cell_type": "code",
   "execution_count": 46,
   "id": "77f7eacf",
   "metadata": {},
   "outputs": [
    {
     "data": {
      "text/plain": [
       "array([12,  8,  9])"
      ]
     },
     "execution_count": 46,
     "metadata": {},
     "output_type": "execute_result"
    }
   ],
   "source": [
    "ar.sum(axis=0)  # axis=0 means row direction in 2D shape (axis=1 means column direction) & for 1D array it is axis=0"
   ]
  },
  {
   "cell_type": "code",
   "execution_count": 47,
   "id": "0db042eb",
   "metadata": {},
   "outputs": [
    {
     "data": {
      "text/plain": [
       "array([[1, 4, 7],\n",
       "       [2, 5, 1],\n",
       "       [3, 6, 0]])"
      ]
     },
     "execution_count": 47,
     "metadata": {},
     "output_type": "execute_result"
    }
   ],
   "source": [
    "ar.T  # transpose of the array"
   ]
  },
  {
   "cell_type": "code",
   "execution_count": 48,
   "id": "538ad76d",
   "metadata": {},
   "outputs": [
    {
     "data": {
      "text/plain": [
       "array([[1, 2, 3],\n",
       "       [4, 5, 6],\n",
       "       [7, 1, 0]])"
      ]
     },
     "execution_count": 48,
     "metadata": {},
     "output_type": "execute_result"
    }
   ],
   "source": [
    "ar"
   ]
  },
  {
   "cell_type": "code",
   "execution_count": 49,
   "id": "1a32435f",
   "metadata": {},
   "outputs": [
    {
     "data": {
      "text/plain": [
       "<numpy.flatiter at 0x9ee6c28>"
      ]
     },
     "execution_count": 49,
     "metadata": {},
     "output_type": "execute_result"
    }
   ],
   "source": [
    "ar.flat  # iteration through the array"
   ]
  },
  {
   "cell_type": "code",
   "execution_count": 50,
   "id": "89c13894",
   "metadata": {},
   "outputs": [
    {
     "name": "stdout",
     "output_type": "stream",
     "text": [
      "1\n",
      "2\n",
      "3\n",
      "4\n",
      "5\n",
      "6\n",
      "7\n",
      "1\n",
      "0\n"
     ]
    }
   ],
   "source": [
    "for i in ar.flat:\n",
    "    print(i)"
   ]
  },
  {
   "cell_type": "code",
   "execution_count": 51,
   "id": "51a317eb",
   "metadata": {},
   "outputs": [
    {
     "data": {
      "text/plain": [
       "2"
      ]
     },
     "execution_count": 51,
     "metadata": {},
     "output_type": "execute_result"
    }
   ],
   "source": [
    "ar.ndim  # number of dimension"
   ]
  },
  {
   "cell_type": "code",
   "execution_count": 52,
   "id": "43fa4f31",
   "metadata": {},
   "outputs": [
    {
     "data": {
      "text/plain": [
       "9"
      ]
     },
     "execution_count": 52,
     "metadata": {},
     "output_type": "execute_result"
    }
   ],
   "source": [
    "ar.size  # number of elements"
   ]
  },
  {
   "cell_type": "code",
   "execution_count": 53,
   "id": "7cb7e60e",
   "metadata": {},
   "outputs": [
    {
     "data": {
      "text/plain": [
       "36"
      ]
     },
     "execution_count": 53,
     "metadata": {},
     "output_type": "execute_result"
    }
   ],
   "source": [
    "ar.nbytes  # total bytes consumed by the array"
   ]
  },
  {
   "cell_type": "code",
   "execution_count": 54,
   "id": "a7b11cf8",
   "metadata": {},
   "outputs": [],
   "source": [
    "one = np.array([1, 3, 5, 665, 85])"
   ]
  },
  {
   "cell_type": "code",
   "execution_count": 55,
   "id": "e827a439",
   "metadata": {},
   "outputs": [
    {
     "data": {
      "text/plain": [
       "3"
      ]
     },
     "execution_count": 55,
     "metadata": {},
     "output_type": "execute_result"
    }
   ],
   "source": [
    "one.argmax()  # index of max element"
   ]
  },
  {
   "cell_type": "code",
   "execution_count": 56,
   "id": "8de14e9c",
   "metadata": {},
   "outputs": [
    {
     "data": {
      "text/plain": [
       "0"
      ]
     },
     "execution_count": 56,
     "metadata": {},
     "output_type": "execute_result"
    }
   ],
   "source": [
    "one.argmin()  # index of min element"
   ]
  },
  {
   "cell_type": "code",
   "execution_count": 57,
   "id": "b790b626",
   "metadata": {},
   "outputs": [
    {
     "data": {
      "text/plain": [
       "array([0, 1, 2, 4, 3], dtype=int32)"
      ]
     },
     "execution_count": 57,
     "metadata": {},
     "output_type": "execute_result"
    }
   ],
   "source": [
    "one.argsort()  # index to sort the array"
   ]
  },
  {
   "cell_type": "code",
   "execution_count": 58,
   "id": "865611e6",
   "metadata": {},
   "outputs": [
    {
     "data": {
      "text/plain": [
       "array([[1, 2, 3],\n",
       "       [4, 5, 6],\n",
       "       [7, 1, 0]])"
      ]
     },
     "execution_count": 58,
     "metadata": {},
     "output_type": "execute_result"
    }
   ],
   "source": [
    "ar"
   ]
  },
  {
   "cell_type": "code",
   "execution_count": 59,
   "id": "45a3f5d7",
   "metadata": {},
   "outputs": [
    {
     "data": {
      "text/plain": [
       "8"
      ]
     },
     "execution_count": 59,
     "metadata": {},
     "output_type": "execute_result"
    }
   ],
   "source": [
    "ar.argmin()  # index for min element in 2D array"
   ]
  },
  {
   "cell_type": "code",
   "execution_count": 60,
   "id": "a3ad7180",
   "metadata": {},
   "outputs": [
    {
     "data": {
      "text/plain": [
       "6"
      ]
     },
     "execution_count": 60,
     "metadata": {},
     "output_type": "execute_result"
    }
   ],
   "source": [
    "ar.argmax()  # index for max element in 2D array"
   ]
  },
  {
   "cell_type": "code",
   "execution_count": 61,
   "id": "19abd14c",
   "metadata": {},
   "outputs": [
    {
     "data": {
      "text/plain": [
       "array([2, 1, 1], dtype=int32)"
      ]
     },
     "execution_count": 61,
     "metadata": {},
     "output_type": "execute_result"
    }
   ],
   "source": [
    "ar.argmax(axis=0)  # index for max element in 2D array but in row direction"
   ]
  },
  {
   "cell_type": "code",
   "execution_count": 62,
   "id": "36cb2967",
   "metadata": {},
   "outputs": [
    {
     "data": {
      "text/plain": [
       "array([2, 2, 0], dtype=int32)"
      ]
     },
     "execution_count": 62,
     "metadata": {},
     "output_type": "execute_result"
    }
   ],
   "source": [
    "ar.argmax(axis=1)  # index for max element in 2D array but in column direction"
   ]
  },
  {
   "cell_type": "code",
   "execution_count": 63,
   "id": "8c118d08",
   "metadata": {},
   "outputs": [
    {
     "data": {
      "text/plain": [
       "array([[0, 1, 2],\n",
       "       [0, 1, 2],\n",
       "       [2, 1, 0]], dtype=int32)"
      ]
     },
     "execution_count": 63,
     "metadata": {},
     "output_type": "execute_result"
    }
   ],
   "source": [
    "ar.argsort(axis=1)  # sorting through column index"
   ]
  },
  {
   "cell_type": "code",
   "execution_count": 64,
   "id": "3b32d3ca",
   "metadata": {},
   "outputs": [
    {
     "data": {
      "text/plain": [
       "array([[0, 2, 2],\n",
       "       [1, 0, 0],\n",
       "       [2, 1, 1]], dtype=int32)"
      ]
     },
     "execution_count": 64,
     "metadata": {},
     "output_type": "execute_result"
    }
   ],
   "source": [
    "ar.argsort(axis=0)  # sorting through row index"
   ]
  },
  {
   "cell_type": "code",
   "execution_count": null,
   "id": "1b6ff6f0",
   "metadata": {},
   "outputs": [],
   "source": []
  }
 ],
 "metadata": {
  "kernelspec": {
   "display_name": "Python 3 (ipykernel)",
   "language": "python",
   "name": "python3"
  },
  "language_info": {
   "codemirror_mode": {
    "name": "ipython",
    "version": 3
   },
   "file_extension": ".py",
   "mimetype": "text/x-python",
   "name": "python",
   "nbconvert_exporter": "python",
   "pygments_lexer": "ipython3",
   "version": "3.8.5"
  }
 },
 "nbformat": 4,
 "nbformat_minor": 5
}
