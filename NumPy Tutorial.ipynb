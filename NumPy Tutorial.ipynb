{
 "cells": [
  {
   "cell_type": "markdown",
   "id": "dea3c454",
   "metadata": {},
   "source": [
    "# Welcome to NumPy Tutorial "
   ]
  },
  {
   "cell_type": "code",
   "execution_count": 1,
   "id": "f9cd5bee",
   "metadata": {},
   "outputs": [],
   "source": [
    "import numpy as np"
   ]
  },
  {
   "cell_type": "code",
   "execution_count": 2,
   "id": "0d410d5d",
   "metadata": {},
   "outputs": [],
   "source": [
    "myArr = np.array([3, 10, 5500000, 15])"
   ]
  },
  {
   "cell_type": "code",
   "execution_count": 3,
   "id": "00533ba2",
   "metadata": {},
   "outputs": [
    {
     "data": {
      "text/plain": [
       "array([ 3, 10, 55, 15])"
      ]
     },
     "execution_count": 3,
     "metadata": {},
     "output_type": "execute_result"
    }
   ],
   "source": [
    "myArr"
   ]
  },
  {
   "cell_type": "code",
   "execution_count": 4,
   "id": "89fed594",
   "metadata": {},
   "outputs": [],
   "source": [
    "myArr = np.array([3, 10, 5500000, 15], np.int8) #should not be large number"
   ]
  },
  {
   "cell_type": "code",
   "execution_count": 5,
   "id": "3d0bf2ed",
   "metadata": {},
   "outputs": [
    {
     "data": {
      "text/plain": [
       "array([ 3, 10, 96, 15], dtype=int8)"
      ]
     },
     "execution_count": 5,
     "metadata": {},
     "output_type": "execute_result"
    }
   ],
   "source": [
    "myArr #will give error to print the large number"
   ]
  },
  {
   "cell_type": "code",
   "execution_count": 6,
   "id": "bd4ec65d",
   "metadata": {},
   "outputs": [],
   "source": [
    "myArr = np.array([3, 10, 5500000, 15], np.int64) #can hold large number"
   ]
  },
  {
   "cell_type": "code",
   "execution_count": 7,
   "id": "9f7c1026",
   "metadata": {},
   "outputs": [
    {
     "data": {
      "text/plain": [
       "array([      3,      10, 5500000,      15], dtype=int64)"
      ]
     },
     "execution_count": 7,
     "metadata": {},
     "output_type": "execute_result"
    }
   ],
   "source": [
    "myArr"
   ]
  },
  {
   "cell_type": "code",
   "execution_count": null,
   "id": "2ed80703",
   "metadata": {},
   "outputs": [],
   "source": []
  }
 ],
 "metadata": {
  "kernelspec": {
   "display_name": "Python 3 (ipykernel)",
   "language": "python",
   "name": "python3"
  },
  "language_info": {
   "codemirror_mode": {
    "name": "ipython",
    "version": 3
   },
   "file_extension": ".py",
   "mimetype": "text/x-python",
   "name": "python",
   "nbconvert_exporter": "python",
   "pygments_lexer": "ipython3",
   "version": "3.8.5"
  }
 },
 "nbformat": 4,
 "nbformat_minor": 5
}
