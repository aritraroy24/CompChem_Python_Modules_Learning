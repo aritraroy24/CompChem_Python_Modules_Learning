{
 "cells": [
  {
   "cell_type": "markdown",
   "id": "af3b36ed",
   "metadata": {},
   "source": [
    "# SciPy Tutorial"
   ]
  },
  {
   "cell_type": "code",
   "execution_count": 1,
   "id": "9757d9a0",
   "metadata": {},
   "outputs": [],
   "source": [
    "import numpy as np\n",
    "import matplotlib.pyplot as plt\n",
    "import scipy as sp"
   ]
  },
  {
   "cell_type": "markdown",
   "id": "99d7d3c5",
   "metadata": {},
   "source": [
    "## Basic"
   ]
  },
  {
   "cell_type": "markdown",
   "id": "a2522e75",
   "metadata": {},
   "source": [
    "### Optimization"
   ]
  },
  {
   "cell_type": "code",
   "execution_count": 2,
   "id": "68ddfe5f",
   "metadata": {},
   "outputs": [],
   "source": [
    "from scipy.optimize import minimize"
   ]
  },
  {
   "cell_type": "markdown",
   "id": "cad0f69f",
   "metadata": {},
   "source": [
    "Minimize $f(x) = (x-3)^2$"
   ]
  },
  {
   "cell_type": "code",
   "execution_count": 3,
   "id": "a6f35154",
   "metadata": {},
   "outputs": [
    {
     "data": {
      "text/plain": [
       "array([2.99999998])"
      ]
     },
     "execution_count": 3,
     "metadata": {},
     "output_type": "execute_result"
    }
   ],
   "source": [
    "def f(x):\n",
    "    return (x-3)**2    # defining the function\n",
    "\n",
    "res = minimize(f, 1)    # giving an initial guess, can be any value\n",
    "res.x    # gives an array"
   ]
  },
  {
   "cell_type": "code",
   "execution_count": 4,
   "id": "c85d0836",
   "metadata": {},
   "outputs": [
    {
     "data": {
      "text/plain": [
       "2.9999999820005776"
      ]
     },
     "execution_count": 4,
     "metadata": {},
     "output_type": "execute_result"
    }
   ],
   "source": [
    "res.x[0]   # taking the value of x"
   ]
  },
  {
   "cell_type": "markdown",
   "id": "8a935ea5",
   "metadata": {},
   "source": [
    "Minimize $f(x, y) = (x-1)^2 + (y-2.5)^2$ subject to $$x-2y+2 \\geq 0 $$$$-x-2y+6 \\geq 0$$$$-x + 2y + 2 \\geq 0$$$$x \\geq 0 $$$$y \\geq 0 $$\n",
    "![opt_reg](img/optimization/opt_reg.png)\n",
    "* 2D function takes in vector $x$\n",
    "* Constraints must be specified as $g_i(x) \\geq 0$\n",
    "* Bounds specified as rectangular"
   ]
  },
  {
   "cell_type": "code",
   "execution_count": 23,
   "id": "92fc28d2",
   "metadata": {},
   "outputs": [
    {
     "data": {
      "text/plain": [
       "array([1.39999999, 1.69999999])"
      ]
     },
     "execution_count": 23,
     "metadata": {},
     "output_type": "execute_result"
    }
   ],
   "source": [
    "# defining the equation in a variable\n",
    "f = lambda x: (x[0] - 1)**2 + (x[1] - 2.5)**2    # x[0], x[1] represent x and y axis respectively\n",
    "\n",
    "# giving the constraints in a tuple of dictionary\n",
    "cons =  ({'type': 'ineq', 'fun': lambda x: x[0] - 2*x[1] + 2},\n",
    "                {'type': 'ineq', 'fun': lambda x: -x[0] - 2*x[1] + 6},\n",
    "                {'type': 'ineq', 'fun': lambda x: -x[0] + 2*x[1] + 2})\n",
    "\n",
    "# giving the boundaries where None means infinity\n",
    "bnds = ((0, None), (0, None))\n",
    "\n",
    "res = minimize (f, (1, 0), bounds = bnds, constraints = cons)\n",
    "\n",
    "res.x"
   ]
  },
  {
   "cell_type": "code",
   "execution_count": 32,
   "id": "556e09b0",
   "metadata": {},
   "outputs": [],
   "source": [
    "# diff methods to minimize\n",
    "minimize?"
   ]
  },
  {
   "cell_type": "markdown",
   "id": "5633fb9d",
   "metadata": {},
   "source": [
    "![minimize_methods](img/optimization/minimize_methods.svg)"
   ]
  },
  {
   "cell_type": "code",
   "execution_count": 33,
   "id": "f8c6aeab",
   "metadata": {},
   "outputs": [
    {
     "data": {
      "text/plain": [
       "<matplotlib.collections.PathCollection at 0xdaa9d0>"
      ]
     },
     "execution_count": 33,
     "metadata": {},
     "output_type": "execute_result"
    },
    {
     "data": {
      "image/png": "[encoded data removed]",
      "text/plain": [
       "<Figure size 432x288 with 1 Axes>"
      ]
     },
     "metadata": {
      "needs_background": "light"
     },
     "output_type": "display_data"
    }
   ],
   "source": [
    "x = np.linspace(0, 10, 10)\n",
    "y = x**2 * np.sin(x)\n",
    "plt.scatter(x,y)"
   ]
  },
  {
   "cell_type": "markdown",
   "id": "d658e5b1",
   "metadata": {},
   "source": [
    "Now, I want to know the values in between."
   ]
  },
  {
   "cell_type": "code",
   "execution_count": 34,
   "id": "b61da33c",
   "metadata": {},
   "outputs": [],
   "source": [
    "from scipy.interpolate import interp1d    # importing the module to interpolate (joining the points)"
   ]
  },
  {
   "cell_type": "code",
   "execution_count": 40,
   "id": "40deae58",
   "metadata": {},
   "outputs": [],
   "source": [
    "f = interp1d(x, y, kind='cubic')    # we can give linear also resulting joining the points using straight lines\n",
    "x_dense = np.linspace(0, 10, 100)   # there will be total of 100 points in between the 10 points. more points, better interpolation\n",
    "y_dense = f(x_dense)   # will take corresponding value of x"
   ]
  },
  {
   "cell_type": "code",
   "execution_count": 41,
   "id": "97e1afa0",
   "metadata": {},
   "outputs": [
    {
     "data": {
      "text/plain": [
       "<matplotlib.collections.PathCollection at 0x106cbe0>"
      ]
     },
     "execution_count": 41,
     "metadata": {},
     "output_type": "execute_result"
    },
    {
     "data": {
      "image/png": "[encoded data removed]",
      "text/plain": [
       "<Figure size 432x288 with 1 Axes>"
      ]
     },
     "metadata": {
      "needs_background": "light"
     },
     "output_type": "display_data"
    }
   ],
   "source": [
    "plt.plot(x_dense, y_dense)\n",
    "plt.scatter(x, y)"
   ]
  },
  {
   "cell_type": "code",
   "execution_count": null,
   "id": "2e432b47",
   "metadata": {},
   "outputs": [],
   "source": []
  }
 ],
 "metadata": {
  "kernelspec": {
   "display_name": "Python 3 (ipykernel)",
   "language": "python",
   "name": "python3"
  },
  "language_info": {
   "codemirror_mode": {
    "name": "ipython",
    "version": 3
   },
   "file_extension": ".py",
   "mimetype": "text/x-python",
   "name": "python",
   "nbconvert_exporter": "python",
   "pygments_lexer": "ipython3",
   "version": "3.8.5"
  }
 },
 "nbformat": 4,
 "nbformat_minor": 5
}
