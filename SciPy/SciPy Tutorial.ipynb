{
 "cells": [
  {
   "cell_type": "markdown",
   "id": "af3b36ed",
   "metadata": {},
   "source": [
    "# SciPy Tutorial"
   ]
  },
  {
   "cell_type": "code",
   "execution_count": 91,
   "id": "9757d9a0",
   "metadata": {},
   "outputs": [],
   "source": [
    "import numpy as np\n",
    "import matplotlib.pyplot as plt\n",
    "import scipy as sp"
   ]
  },
  {
   "cell_type": "markdown",
   "id": "99d7d3c5",
   "metadata": {},
   "source": [
    "## Basic"
   ]
  },
  {
   "cell_type": "markdown",
   "id": "a2522e75",
   "metadata": {},
   "source": [
    "### Optimization"
   ]
  },
  {
   "cell_type": "code",
   "execution_count": 92,
   "id": "68ddfe5f",
   "metadata": {},
   "outputs": [],
   "source": [
    "from scipy.optimize import minimize"
   ]
  },
  {
   "cell_type": "markdown",
   "id": "cad0f69f",
   "metadata": {},
   "source": [
    "Minimize $f(x) = (x-3)^2$"
   ]
  },
  {
   "cell_type": "code",
   "execution_count": 93,
   "id": "a6f35154",
   "metadata": {},
   "outputs": [
    {
     "data": {
      "text/plain": [
       "array([2.99999998])"
      ]
     },
     "execution_count": 93,
     "metadata": {},
     "output_type": "execute_result"
    }
   ],
   "source": [
    "def f(x):\n",
    "    return (x-3)**2    # defining the function\n",
    "\n",
    "res = minimize(f, 1)    # giving an initial guess, can be any value\n",
    "res.x    # gives an array"
   ]
  },
  {
   "cell_type": "code",
   "execution_count": 94,
   "id": "c85d0836",
   "metadata": {},
   "outputs": [
    {
     "data": {
      "text/plain": [
       "2.9999999820005776"
      ]
     },
     "execution_count": 94,
     "metadata": {},
     "output_type": "execute_result"
    }
   ],
   "source": [
    "res.x[0]   # taking the value of x"
   ]
  },
  {
   "cell_type": "markdown",
   "id": "8a935ea5",
   "metadata": {},
   "source": [
    "Minimize $f(x, y) = (x-1)^2 + (y-2.5)^2$ subject to:\n",
    "$$x-2y+2 \\geq 0 $$\n",
    "$$-x-2y+6 \\geq 0$$\n",
    "$$-x + 2y + 2 \\geq 0$$\n",
    "$$x \\geq 0 $$\n",
    "$$y \\geq 0 $$\n",
    "![opt_reg](img/optimization/opt_reg.png)\n",
    "* 2D function takes in vector $x$\n",
    "* Constraints must be specified as $g_i(x) \\geq 0$\n",
    "* Bounds specified as rectangular"
   ]
  },
  {
   "cell_type": "code",
   "execution_count": 95,
   "id": "92fc28d2",
   "metadata": {},
   "outputs": [
    {
     "data": {
      "text/plain": [
       "array([1.39999999, 1.69999999])"
      ]
     },
     "execution_count": 95,
     "metadata": {},
     "output_type": "execute_result"
    }
   ],
   "source": [
    "# defining the equation in a variable\n",
    "f = lambda x: (x[0] - 1)**2 + (x[1] - 2.5)**2    # x[0], x[1] represent x and y axis respectively\n",
    "\n",
    "# giving the constraints in a tuple of dictionary\n",
    "cons =  ({'type': 'ineq', 'fun': lambda x: x[0] - 2*x[1] + 2},\n",
    "                {'type': 'ineq', 'fun': lambda x: -x[0] - 2*x[1] + 6},\n",
    "                {'type': 'ineq', 'fun': lambda x: -x[0] + 2*x[1] + 2})\n",
    "\n",
    "# giving the boundaries where None means infinity\n",
    "bnds = ((0, None), (0, None))\n",
    "\n",
    "res = minimize (f, (1, 0), bounds = bnds, constraints = cons)\n",
    "\n",
    "res.x"
   ]
  },
  {
   "cell_type": "code",
   "execution_count": 96,
   "id": "556e09b0",
   "metadata": {},
   "outputs": [
    {
     "name": "stdout",
     "output_type": "stream",
     "text": [
      "\u001b[1;31mSignature:\u001b[0m\n",
      "\u001b[0mminimize\u001b[0m\u001b[1;33m(\u001b[0m\u001b[1;33m\n",
      "\u001b[0m    \u001b[0mfun\u001b[0m\u001b[1;33m,\u001b[0m\u001b[1;33m\n",
      "\u001b[0m    \u001b[0mx0\u001b[0m\u001b[1;33m,\u001b[0m\u001b[1;33m\n",
      "\u001b[0m    \u001b[0margs\u001b[0m\u001b[1;33m=\u001b[0m\u001b[1;33m(\u001b[0m\u001b[1;33m)\u001b[0m\u001b[1;33m,\u001b[0m\u001b[1;33m\n",
      "\u001b[0m    \u001b[0mmethod\u001b[0m\u001b[1;33m=\u001b[0m\u001b[1;32mNone\u001b[0m\u001b[1;33m,\u001b[0m\u001b[1;33m\n",
      "\u001b[0m    \u001b[0mjac\u001b[0m\u001b[1;33m=\u001b[0m\u001b[1;32mNone\u001b[0m\u001b[1;33m,\u001b[0m\u001b[1;33m\n",
      "\u001b[0m    \u001b[0mhess\u001b[0m\u001b[1;33m=\u001b[0m\u001b[1;32mNone\u001b[0m\u001b[1;33m,\u001b[0m\u001b[1;33m\n",
      "\u001b[0m    \u001b[0mhessp\u001b[0m\u001b[1;33m=\u001b[0m\u001b[1;32mNone\u001b[0m\u001b[1;33m,\u001b[0m\u001b[1;33m\n",
      "\u001b[0m    \u001b[0mbounds\u001b[0m\u001b[1;33m=\u001b[0m\u001b[1;32mNone\u001b[0m\u001b[1;33m,\u001b[0m\u001b[1;33m\n",
      "\u001b[0m    \u001b[0mconstraints\u001b[0m\u001b[1;33m=\u001b[0m\u001b[1;33m(\u001b[0m\u001b[1;33m)\u001b[0m\u001b[1;33m,\u001b[0m\u001b[1;33m\n",
      "\u001b[0m    \u001b[0mtol\u001b[0m\u001b[1;33m=\u001b[0m\u001b[1;32mNone\u001b[0m\u001b[1;33m,\u001b[0m\u001b[1;33m\n",
      "\u001b[0m    \u001b[0mcallback\u001b[0m\u001b[1;33m=\u001b[0m\u001b[1;32mNone\u001b[0m\u001b[1;33m,\u001b[0m\u001b[1;33m\n",
      "\u001b[0m    \u001b[0moptions\u001b[0m\u001b[1;33m=\u001b[0m\u001b[1;32mNone\u001b[0m\u001b[1;33m,\u001b[0m\u001b[1;33m\n",
      "\u001b[0m\u001b[1;33m)\u001b[0m\u001b[1;33m\u001b[0m\u001b[1;33m\u001b[0m\u001b[0m\n",
      "\u001b[1;31mDocstring:\u001b[0m\n",
      "Minimization of scalar function of one or more variables.\n",
      "\n",
      "Parameters\n",
      "----------\n",
      "fun : callable\n",
      "    The objective function to be minimized.\n",
      "\n",
      "        ``fun(x, *args) -> float``\n",
      "\n",
      "    where ``x`` is an 1-D array with shape (n,) and ``args``\n",
      "    is a tuple of the fixed parameters needed to completely\n",
      "    specify the function.\n",
      "x0 : ndarray, shape (n,)\n",
      "    Initial guess. Array of real elements of size (n,),\n",
      "    where 'n' is the number of independent variables.\n",
      "args : tuple, optional\n",
      "    Extra arguments passed to the objective function and its\n",
      "    derivatives (`fun`, `jac` and `hess` functions).\n",
      "method : str or callable, optional\n",
      "    Type of solver.  Should be one of\n",
      "\n",
      "        - 'Nelder-Mead' :ref:`(see here) <optimize.minimize-neldermead>`\n",
      "        - 'Powell'      :ref:`(see here) <optimize.minimize-powell>`\n",
      "        - 'CG'          :ref:`(see here) <optimize.minimize-cg>`\n",
      "        - 'BFGS'        :ref:`(see here) <optimize.minimize-bfgs>`\n",
      "        - 'Newton-CG'   :ref:`(see here) <optimize.minimize-newtoncg>`\n",
      "        - 'L-BFGS-B'    :ref:`(see here) <optimize.minimize-lbfgsb>`\n",
      "        - 'TNC'         :ref:`(see here) <optimize.minimize-tnc>`\n",
      "        - 'COBYLA'      :ref:`(see here) <optimize.minimize-cobyla>`\n",
      "        - 'SLSQP'       :ref:`(see here) <optimize.minimize-slsqp>`\n",
      "        - 'trust-constr':ref:`(see here) <optimize.minimize-trustconstr>`\n",
      "        - 'dogleg'      :ref:`(see here) <optimize.minimize-dogleg>`\n",
      "        - 'trust-ncg'   :ref:`(see here) <optimize.minimize-trustncg>`\n",
      "        - 'trust-exact' :ref:`(see here) <optimize.minimize-trustexact>`\n",
      "        - 'trust-krylov' :ref:`(see here) <optimize.minimize-trustkrylov>`\n",
      "        - custom - a callable object (added in version 0.14.0),\n",
      "          see below for description.\n",
      "\n",
      "    If not given, chosen to be one of ``BFGS``, ``L-BFGS-B``, ``SLSQP``,\n",
      "    depending if the problem has constraints or bounds.\n",
      "jac : {callable,  '2-point', '3-point', 'cs', bool}, optional\n",
      "    Method for computing the gradient vector. Only for CG, BFGS,\n",
      "    Newton-CG, L-BFGS-B, TNC, SLSQP, dogleg, trust-ncg, trust-krylov,\n",
      "    trust-exact and trust-constr.\n",
      "    If it is a callable, it should be a function that returns the gradient\n",
      "    vector:\n",
      "\n",
      "        ``jac(x, *args) -> array_like, shape (n,)``\n",
      "\n",
      "    where ``x`` is an array with shape (n,) and ``args`` is a tuple with\n",
      "    the fixed parameters. If `jac` is a Boolean and is True, `fun` is\n",
      "    assumed to return a tuple ``(f, g)`` containing the objective\n",
      "    function and the gradient.\n",
      "    Methods 'Newton-CG', 'trust-ncg', 'dogleg', 'trust-exact', and\n",
      "    'trust-krylov' require that either a callable be supplied, or that\n",
      "    `fun` return the objective and gradient.\n",
      "    If None or False, the gradient will be estimated using 2-point finite\n",
      "    difference estimation with an absolute step size.\n",
      "    Alternatively, the keywords  {'2-point', '3-point', 'cs'} can be used\n",
      "    to select a finite difference scheme for numerical estimation of the\n",
      "    gradient with a relative step size. These finite difference schemes\n",
      "    obey any specified `bounds`.\n",
      "hess : {callable, '2-point', '3-point', 'cs', HessianUpdateStrategy}, optional\n",
      "    Method for computing the Hessian matrix. Only for Newton-CG, dogleg,\n",
      "    trust-ncg, trust-krylov, trust-exact and trust-constr. If it is\n",
      "    callable, it should return the Hessian matrix:\n",
      "\n",
      "        ``hess(x, *args) -> {LinearOperator, spmatrix, array}, (n, n)``\n",
      "\n",
      "    where x is a (n,) ndarray and `args` is a tuple with the fixed\n",
      "    parameters. LinearOperator and sparse matrix returns are only allowed\n",
      "    for 'trust-constr' method. Alternatively, the keywords\n",
      "    {'2-point', '3-point', 'cs'} select a finite difference scheme\n",
      "    for numerical estimation. Or, objects implementing the\n",
      "    `HessianUpdateStrategy` interface can be used to approximate\n",
      "    the Hessian. Available quasi-Newton methods implementing\n",
      "    this interface are:\n",
      "\n",
      "        - `BFGS`;\n",
      "        - `SR1`.\n",
      "\n",
      "    Whenever the gradient is estimated via finite-differences,\n",
      "    the Hessian cannot be estimated with options\n",
      "    {'2-point', '3-point', 'cs'} and needs to be\n",
      "    estimated using one of the quasi-Newton strategies.\n",
      "    'trust-exact' cannot use a finite-difference scheme, and must be used\n",
      "    with a callable returning an (n, n) array.\n",
      "hessp : callable, optional\n",
      "    Hessian of objective function times an arbitrary vector p. Only for\n",
      "    Newton-CG, trust-ncg, trust-krylov, trust-constr.\n",
      "    Only one of `hessp` or `hess` needs to be given.  If `hess` is\n",
      "    provided, then `hessp` will be ignored.  `hessp` must compute the\n",
      "    Hessian times an arbitrary vector:\n",
      "\n",
      "        ``hessp(x, p, *args) ->  ndarray shape (n,)``\n",
      "\n",
      "    where x is a (n,) ndarray, p is an arbitrary vector with\n",
      "    dimension (n,) and `args` is a tuple with the fixed\n",
      "    parameters.\n",
      "bounds : sequence or `Bounds`, optional\n",
      "    Bounds on variables for Nelder-Mead, L-BFGS-B, TNC, SLSQP, Powell, and\n",
      "    trust-constr methods. There are two ways to specify the bounds:\n",
      "\n",
      "        1. Instance of `Bounds` class.\n",
      "        2. Sequence of ``(min, max)`` pairs for each element in `x`. None\n",
      "           is used to specify no bound.\n",
      "\n",
      "constraints : {Constraint, dict} or List of {Constraint, dict}, optional\n",
      "    Constraints definition (only for COBYLA, SLSQP and trust-constr).\n",
      "\n",
      "    Constraints for 'trust-constr' are defined as a single object or a\n",
      "    list of objects specifying constraints to the optimization problem.\n",
      "    Available constraints are:\n",
      "\n",
      "        - `LinearConstraint`\n",
      "        - `NonlinearConstraint`\n",
      "\n",
      "    Constraints for COBYLA, SLSQP are defined as a list of dictionaries.\n",
      "    Each dictionary with fields:\n",
      "\n",
      "        type : str\n",
      "            Constraint type: 'eq' for equality, 'ineq' for inequality.\n",
      "        fun : callable\n",
      "            The function defining the constraint.\n",
      "        jac : callable, optional\n",
      "            The Jacobian of `fun` (only for SLSQP).\n",
      "        args : sequence, optional\n",
      "            Extra arguments to be passed to the function and Jacobian.\n",
      "\n",
      "    Equality constraint means that the constraint function result is to\n",
      "    be zero whereas inequality means that it is to be non-negative.\n",
      "    Note that COBYLA only supports inequality constraints.\n",
      "tol : float, optional\n",
      "    Tolerance for termination. When `tol` is specified, the selected\n",
      "    minimization algorithm sets some relevant solver-specific tolerance(s)\n",
      "    equal to `tol`. For detailed control, use solver-specific\n",
      "    options.\n",
      "options : dict, optional\n",
      "    A dictionary of solver options. All methods accept the following\n",
      "    generic options:\n",
      "\n",
      "        maxiter : int\n",
      "            Maximum number of iterations to perform. Depending on the\n",
      "            method each iteration may use several function evaluations.\n",
      "        disp : bool\n",
      "            Set to True to print convergence messages.\n",
      "\n",
      "    For method-specific options, see :func:`show_options()`.\n",
      "callback : callable, optional\n",
      "    Called after each iteration. For 'trust-constr' it is a callable with\n",
      "    the signature:\n",
      "\n",
      "        ``callback(xk, OptimizeResult state) -> bool``\n",
      "\n",
      "    where ``xk`` is the current parameter vector. and ``state``\n",
      "    is an `OptimizeResult` object, with the same fields\n",
      "    as the ones from the return. If callback returns True\n",
      "    the algorithm execution is terminated.\n",
      "    For all the other methods, the signature is:\n",
      "\n",
      "        ``callback(xk)``\n",
      "\n",
      "    where ``xk`` is the current parameter vector.\n",
      "\n",
      "Returns\n",
      "-------\n",
      "res : OptimizeResult\n",
      "    The optimization result represented as a ``OptimizeResult`` object.\n",
      "    Important attributes are: ``x`` the solution array, ``success`` a\n",
      "    Boolean flag indicating if the optimizer exited successfully and\n",
      "    ``message`` which describes the cause of the termination. See\n",
      "    `OptimizeResult` for a description of other attributes.\n",
      "\n",
      "See also\n",
      "--------\n",
      "minimize_scalar : Interface to minimization algorithms for scalar\n",
      "    univariate functions\n",
      "show_options : Additional options accepted by the solvers\n",
      "\n",
      "Notes\n",
      "-----\n",
      "This section describes the available solvers that can be selected by the\n",
      "'method' parameter. The default method is *BFGS*.\n",
      "\n",
      "**Unconstrained minimization**\n",
      "\n",
      "Method :ref:`CG <optimize.minimize-cg>` uses a nonlinear conjugate\n",
      "gradient algorithm by Polak and Ribiere, a variant of the\n",
      "Fletcher-Reeves method described in [5]_ pp.120-122. Only the\n",
      "first derivatives are used.\n",
      "\n",
      "Method :ref:`BFGS <optimize.minimize-bfgs>` uses the quasi-Newton\n",
      "method of Broyden, Fletcher, Goldfarb, and Shanno (BFGS) [5]_\n",
      "pp. 136. It uses the first derivatives only. BFGS has proven good\n",
      "performance even for non-smooth optimizations. This method also\n",
      "returns an approximation of the Hessian inverse, stored as\n",
      "`hess_inv` in the OptimizeResult object.\n",
      "\n",
      "Method :ref:`Newton-CG <optimize.minimize-newtoncg>` uses a\n",
      "Newton-CG algorithm [5]_ pp. 168 (also known as the truncated\n",
      "Newton method). It uses a CG method to the compute the search\n",
      "direction. See also *TNC* method for a box-constrained\n",
      "minimization with a similar algorithm. Suitable for large-scale\n",
      "problems.\n",
      "\n",
      "Method :ref:`dogleg <optimize.minimize-dogleg>` uses the dog-leg\n",
      "trust-region algorithm [5]_ for unconstrained minimization. This\n",
      "algorithm requires the gradient and Hessian; furthermore the\n",
      "Hessian is required to be positive definite.\n",
      "\n",
      "Method :ref:`trust-ncg <optimize.minimize-trustncg>` uses the\n",
      "Newton conjugate gradient trust-region algorithm [5]_ for\n",
      "unconstrained minimization. This algorithm requires the gradient\n",
      "and either the Hessian or a function that computes the product of\n",
      "the Hessian with a given vector. Suitable for large-scale problems.\n",
      "\n",
      "Method :ref:`trust-krylov <optimize.minimize-trustkrylov>` uses\n",
      "the Newton GLTR trust-region algorithm [14]_, [15]_ for unconstrained\n",
      "minimization. This algorithm requires the gradient\n",
      "and either the Hessian or a function that computes the product of\n",
      "the Hessian with a given vector. Suitable for large-scale problems.\n",
      "On indefinite problems it requires usually less iterations than the\n",
      "`trust-ncg` method and is recommended for medium and large-scale problems.\n",
      "\n",
      "Method :ref:`trust-exact <optimize.minimize-trustexact>`\n",
      "is a trust-region method for unconstrained minimization in which\n",
      "quadratic subproblems are solved almost exactly [13]_. This\n",
      "algorithm requires the gradient and the Hessian (which is\n",
      "*not* required to be positive definite). It is, in many\n",
      "situations, the Newton method to converge in fewer iteraction\n",
      "and the most recommended for small and medium-size problems.\n",
      "\n",
      "**Bound-Constrained minimization**\n",
      "\n",
      "Method :ref:`Nelder-Mead <optimize.minimize-neldermead>` uses the\n",
      "Simplex algorithm [1]_, [2]_. This algorithm is robust in many\n",
      "applications. However, if numerical computation of derivative can be\n",
      "trusted, other algorithms using the first and/or second derivatives\n",
      "information might be preferred for their better performance in\n",
      "general.\n",
      "\n",
      "Method :ref:`L-BFGS-B <optimize.minimize-lbfgsb>` uses the L-BFGS-B\n",
      "algorithm [6]_, [7]_ for bound constrained minimization.\n",
      "\n",
      "Method :ref:`Powell <optimize.minimize-powell>` is a modification\n",
      "of Powell's method [3]_, [4]_ which is a conjugate direction\n",
      "method. It performs sequential one-dimensional minimizations along\n",
      "each vector of the directions set (`direc` field in `options` and\n",
      "`info`), which is updated at each iteration of the main\n",
      "minimization loop. The function need not be differentiable, and no\n",
      "derivatives are taken. If bounds are not provided, then an\n",
      "unbounded line search will be used. If bounds are provided and\n",
      "the initial guess is within the bounds, then every function\n",
      "evaluation throughout the minimization procedure will be within\n",
      "the bounds. If bounds are provided, the initial guess is outside\n",
      "the bounds, and `direc` is full rank (default has full rank), then\n",
      "some function evaluations during the first iteration may be\n",
      "outside the bounds, but every function evaluation after the first\n",
      "iteration will be within the bounds. If `direc` is not full rank,\n",
      "then some parameters may not be optimized and the solution is not\n",
      "guaranteed to be within the bounds.\n",
      "\n",
      "Method :ref:`TNC <optimize.minimize-tnc>` uses a truncated Newton\n",
      "algorithm [5]_, [8]_ to minimize a function with variables subject\n",
      "to bounds. This algorithm uses gradient information; it is also\n",
      "called Newton Conjugate-Gradient. It differs from the *Newton-CG*\n",
      "method described above as it wraps a C implementation and allows\n",
      "each variable to be given upper and lower bounds.\n",
      "\n",
      "**Constrained Minimization**\n",
      "\n",
      "Method :ref:`COBYLA <optimize.minimize-cobyla>` uses the\n",
      "Constrained Optimization BY Linear Approximation (COBYLA) method\n",
      "[9]_, [10]_, [11]_. The algorithm is based on linear\n",
      "approximations to the objective function and each constraint. The\n",
      "method wraps a FORTRAN implementation of the algorithm. The\n",
      "constraints functions 'fun' may return either a single number\n",
      "or an array or list of numbers.\n",
      "\n",
      "Method :ref:`SLSQP <optimize.minimize-slsqp>` uses Sequential\n",
      "Least SQuares Programming to minimize a function of several\n",
      "variables with any combination of bounds, equality and inequality\n",
      "constraints. The method wraps the SLSQP Optimization subroutine\n",
      "originally implemented by Dieter Kraft [12]_. Note that the\n",
      "wrapper handles infinite values in bounds by converting them into\n",
      "large floating values.\n",
      "\n",
      "Method :ref:`trust-constr <optimize.minimize-trustconstr>` is a\n",
      "trust-region algorithm for constrained optimization. It swiches\n",
      "between two implementations depending on the problem definition.\n",
      "It is the most versatile constrained minimization algorithm\n",
      "implemented in SciPy and the most appropriate for large-scale problems.\n",
      "For equality constrained problems it is an implementation of Byrd-Omojokun\n",
      "Trust-Region SQP method described in [17]_ and in [5]_, p. 549. When\n",
      "inequality constraints  are imposed as well, it swiches to the trust-region\n",
      "interior point  method described in [16]_. This interior point algorithm,\n",
      "in turn, solves inequality constraints by introducing slack variables\n",
      "and solving a sequence of equality-constrained barrier problems\n",
      "for progressively smaller values of the barrier parameter.\n",
      "The previously described equality constrained SQP method is\n",
      "used to solve the subproblems with increasing levels of accuracy\n",
      "as the iterate gets closer to a solution.\n",
      "\n",
      "**Finite-Difference Options**\n",
      "\n",
      "For Method :ref:`trust-constr <optimize.minimize-trustconstr>`\n",
      "the gradient and the Hessian may be approximated using\n",
      "three finite-difference schemes: {'2-point', '3-point', 'cs'}.\n",
      "The scheme 'cs' is, potentially, the most accurate but it\n",
      "requires the function to correctly handles complex inputs and to\n",
      "be differentiable in the complex plane. The scheme '3-point' is more\n",
      "accurate than '2-point' but requires twice as many operations.\n",
      "\n",
      "**Custom minimizers**\n",
      "\n",
      "It may be useful to pass a custom minimization method, for example\n",
      "when using a frontend to this method such as `scipy.optimize.basinhopping`\n",
      "or a different library.  You can simply pass a callable as the ``method``\n",
      "parameter.\n",
      "\n",
      "The callable is called as ``method(fun, x0, args, **kwargs, **options)``\n",
      "where ``kwargs`` corresponds to any other parameters passed to `minimize`\n",
      "(such as `callback`, `hess`, etc.), except the `options` dict, which has\n",
      "its contents also passed as `method` parameters pair by pair.  Also, if\n",
      "`jac` has been passed as a bool type, `jac` and `fun` are mangled so that\n",
      "`fun` returns just the function values and `jac` is converted to a function\n",
      "returning the Jacobian.  The method shall return an `OptimizeResult`\n",
      "object.\n",
      "\n",
      "The provided `method` callable must be able to accept (and possibly ignore)\n",
      "arbitrary parameters; the set of parameters accepted by `minimize` may\n",
      "expand in future versions and then these parameters will be passed to\n",
      "the method.  You can find an example in the scipy.optimize tutorial.\n",
      "\n",
      ".. versionadded:: 0.11.0\n",
      "\n",
      "References\n",
      "----------\n",
      ".. [1] Nelder, J A, and R Mead. 1965. A Simplex Method for Function\n",
      "    Minimization. The Computer Journal 7: 308-13.\n",
      ".. [2] Wright M H. 1996. Direct search methods: Once scorned, now\n",
      "    respectable, in Numerical Analysis 1995: Proceedings of the 1995\n",
      "    Dundee Biennial Conference in Numerical Analysis (Eds. D F\n",
      "    Griffiths and G A Watson). Addison Wesley Longman, Harlow, UK.\n",
      "    191-208.\n",
      ".. [3] Powell, M J D. 1964. An efficient method for finding the minimum of\n",
      "   a function of several variables without calculating derivatives. The\n",
      "   Computer Journal 7: 155-162.\n",
      ".. [4] Press W, S A Teukolsky, W T Vetterling and B P Flannery.\n",
      "   Numerical Recipes (any edition), Cambridge University Press.\n",
      ".. [5] Nocedal, J, and S J Wright. 2006. Numerical Optimization.\n",
      "   Springer New York.\n",
      ".. [6] Byrd, R H and P Lu and J. Nocedal. 1995. A Limited Memory\n",
      "   Algorithm for Bound Constrained Optimization. SIAM Journal on\n",
      "   Scientific and Statistical Computing 16 (5): 1190-1208.\n",
      ".. [7] Zhu, C and R H Byrd and J Nocedal. 1997. L-BFGS-B: Algorithm\n",
      "   778: L-BFGS-B, FORTRAN routines for large scale bound constrained\n",
      "   optimization. ACM Transactions on Mathematical Software 23 (4):\n",
      "   550-560.\n",
      ".. [8] Nash, S G. Newton-Type Minimization Via the Lanczos Method.\n",
      "   1984. SIAM Journal of Numerical Analysis 21: 770-778.\n",
      ".. [9] Powell, M J D. A direct search optimization method that models\n",
      "   the objective and constraint functions by linear interpolation.\n",
      "   1994. Advances in Optimization and Numerical Analysis, eds. S. Gomez\n",
      "   and J-P Hennart, Kluwer Academic (Dordrecht), 51-67.\n",
      ".. [10] Powell M J D. Direct search algorithms for optimization\n",
      "   calculations. 1998. Acta Numerica 7: 287-336.\n",
      ".. [11] Powell M J D. A view of algorithms for optimization without\n",
      "   derivatives. 2007.Cambridge University Technical Report DAMTP\n",
      "   2007/NA03\n",
      ".. [12] Kraft, D. A software package for sequential quadratic\n",
      "   programming. 1988. Tech. Rep. DFVLR-FB 88-28, DLR German Aerospace\n",
      "   Center -- Institute for Flight Mechanics, Koln, Germany.\n",
      ".. [13] Conn, A. R., Gould, N. I., and Toint, P. L.\n",
      "   Trust region methods. 2000. Siam. pp. 169-200.\n",
      ".. [14] F. Lenders, C. Kirches, A. Potschka: \"trlib: A vector-free\n",
      "   implementation of the GLTR method for iterative solution of\n",
      "   the trust region problem\", :arxiv:`1611.04718`\n",
      ".. [15] N. Gould, S. Lucidi, M. Roma, P. Toint: \"Solving the\n",
      "   Trust-Region Subproblem using the Lanczos Method\",\n",
      "   SIAM J. Optim., 9(2), 504--525, (1999).\n",
      ".. [16] Byrd, Richard H., Mary E. Hribar, and Jorge Nocedal. 1999.\n",
      "    An interior point algorithm for large-scale nonlinear  programming.\n",
      "    SIAM Journal on Optimization 9.4: 877-900.\n",
      ".. [17] Lalee, Marucha, Jorge Nocedal, and Todd Plantega. 1998. On the\n",
      "    implementation of an algorithm for large-scale equality constrained\n",
      "    optimization. SIAM Journal on Optimization 8.3: 682-706.\n",
      "\n",
      "Examples\n",
      "--------\n",
      "Let us consider the problem of minimizing the Rosenbrock function. This\n",
      "function (and its respective derivatives) is implemented in `rosen`\n",
      "(resp. `rosen_der`, `rosen_hess`) in the `scipy.optimize`.\n",
      "\n",
      ">>> from scipy.optimize import minimize, rosen, rosen_der\n",
      "\n",
      "A simple application of the *Nelder-Mead* method is:\n",
      "\n",
      ">>> x0 = [1.3, 0.7, 0.8, 1.9, 1.2]\n",
      ">>> res = minimize(rosen, x0, method='Nelder-Mead', tol=1e-6)\n",
      ">>> res.x\n",
      "array([ 1.,  1.,  1.,  1.,  1.])\n",
      "\n",
      "Now using the *BFGS* algorithm, using the first derivative and a few\n",
      "options:\n",
      "\n",
      ">>> res = minimize(rosen, x0, method='BFGS', jac=rosen_der,\n",
      "...                options={'gtol': 1e-6, 'disp': True})\n",
      "Optimization terminated successfully.\n",
      "         Current function value: 0.000000\n",
      "         Iterations: 26\n",
      "         Function evaluations: 31\n",
      "         Gradient evaluations: 31\n",
      ">>> res.x\n",
      "array([ 1.,  1.,  1.,  1.,  1.])\n",
      ">>> print(res.message)\n",
      "Optimization terminated successfully.\n",
      ">>> res.hess_inv\n",
      "array([[ 0.00749589,  0.01255155,  0.02396251,  0.04750988,  0.09495377],  # may vary\n",
      "       [ 0.01255155,  0.02510441,  0.04794055,  0.09502834,  0.18996269],\n",
      "       [ 0.02396251,  0.04794055,  0.09631614,  0.19092151,  0.38165151],\n",
      "       [ 0.04750988,  0.09502834,  0.19092151,  0.38341252,  0.7664427 ],\n",
      "       [ 0.09495377,  0.18996269,  0.38165151,  0.7664427,   1.53713523]])\n",
      "\n",
      "\n",
      "Next, consider a minimization problem with several constraints (namely\n",
      "Example 16.4 from [5]_). The objective function is:\n",
      "\n",
      ">>> fun = lambda x: (x[0] - 1)**2 + (x[1] - 2.5)**2\n",
      "\n",
      "There are three constraints defined as:\n",
      "\n",
      ">>> cons = ({'type': 'ineq', 'fun': lambda x:  x[0] - 2 * x[1] + 2},\n",
      "...         {'type': 'ineq', 'fun': lambda x: -x[0] - 2 * x[1] + 6},\n",
      "...         {'type': 'ineq', 'fun': lambda x: -x[0] + 2 * x[1] + 2})\n",
      "\n",
      "And variables must be positive, hence the following bounds:\n",
      "\n",
      ">>> bnds = ((0, None), (0, None))\n",
      "\n",
      "The optimization problem is solved using the SLSQP method as:\n",
      "\n",
      ">>> res = minimize(fun, (2, 0), method='SLSQP', bounds=bnds,\n",
      "...                constraints=cons)\n",
      "\n",
      "It should converge to the theoretical solution (1.4 ,1.7).\n",
      "\u001b[1;31mFile:\u001b[0m      c:\\users\\aritra roy\\lib\\site-packages\\scipy\\optimize\\_minimize.py\n",
      "\u001b[1;31mType:\u001b[0m      function\n"
     ]
    }
   ],
   "source": [
    "# diff methods to minimize\n",
    "minimize?"
   ]
  },
  {
   "cell_type": "markdown",
   "id": "5633fb9d",
   "metadata": {},
   "source": [
    "![minimize_methods](img/optimization/minimize_methods.svg)"
   ]
  },
  {
   "cell_type": "code",
   "execution_count": 97,
   "id": "f8c6aeab",
   "metadata": {},
   "outputs": [
    {
     "data": {
      "text/plain": [
       "<matplotlib.collections.PathCollection at 0x6d357d8>"
      ]
     },
     "execution_count": 97,
     "metadata": {},
     "output_type": "execute_result"
    },
    {
     "data": {
      "image/png": "[encoded data removed]",
      "text/plain": [
       "<Figure size 432x288 with 1 Axes>"
      ]
     },
     "metadata": {
      "needs_background": "light"
     },
     "output_type": "display_data"
    }
   ],
   "source": [
    "x = np.linspace(0, 10, 10)\n",
    "y = x**2 * np.sin(x)\n",
    "plt.scatter(x,y)"
   ]
  },
  {
   "cell_type": "markdown",
   "id": "d658e5b1",
   "metadata": {},
   "source": [
    "Now, I want to know the values in between."
   ]
  },
  {
   "cell_type": "code",
   "execution_count": 98,
   "id": "b61da33c",
   "metadata": {},
   "outputs": [],
   "source": [
    "from scipy.interpolate import interp1d    # importing the module to interpolate (joining the points)"
   ]
  },
  {
   "cell_type": "code",
   "execution_count": 99,
   "id": "40deae58",
   "metadata": {},
   "outputs": [],
   "source": [
    "f = interp1d(x, y, kind='cubic')    # we can give linear also resulting joining the points using straight lines\n",
    "x_dense = np.linspace(0, 10, 100)   # there will be total of 100 points in between the 10 points. more points, better interpolation\n",
    "y_dense = f(x_dense)   # will take corresponding value of x"
   ]
  },
  {
   "cell_type": "code",
   "execution_count": 100,
   "id": "97e1afa0",
   "metadata": {},
   "outputs": [
    {
     "data": {
      "text/plain": [
       "<matplotlib.collections.PathCollection at 0x6d6fb80>"
      ]
     },
     "execution_count": 100,
     "metadata": {},
     "output_type": "execute_result"
    },
    {
     "data": {
      "image/png": "[encoded data removed]",
      "text/plain": [
       "<Figure size 432x288 with 1 Axes>"
      ]
     },
     "metadata": {
      "needs_background": "light"
     },
     "output_type": "display_data"
    }
   ],
   "source": [
    "plt.plot(x_dense, y_dense)\n",
    "plt.scatter(x, y)"
   ]
  },
  {
   "cell_type": "markdown",
   "id": "2e432b47",
   "metadata": {},
   "source": [
    "## Curve Fitting\n",
    "*Trivial Example*"
   ]
  },
  {
   "cell_type": "code",
   "execution_count": 101,
   "metadata": {},
   "outputs": [],
   "source": [
    "x_data = np.linspace(0, 10, 10)\n",
    "y_data = 3*x_data**2 + 2"
   ]
  },
  {
   "cell_type": "code",
   "execution_count": 102,
   "metadata": {},
   "outputs": [
    {
     "data": {
      "text/plain": [
       "<matplotlib.collections.PathCollection at 0x6d7de20>"
      ]
     },
     "execution_count": 102,
     "metadata": {},
     "output_type": "execute_result"
    },
    {
     "data": {
      "image/png": "[encoded data removed]",
      "text/plain": [
       "<Figure size 432x288 with 1 Axes>"
      ]
     },
     "metadata": {
      "needs_background": "light"
     },
     "output_type": "display_data"
    }
   ],
   "source": [
    "plt.scatter(x_data, y_data)"
   ]
  },
  {
   "cell_type": "markdown",
   "metadata": {},
   "source": [
    "Want to fit the data to the curve $y = ax^2 + b$. The main goal here is determine the values of $a$ and $b$"
   ]
  },
  {
   "cell_type": "code",
   "execution_count": 103,
   "metadata": {},
   "outputs": [],
   "source": [
    "# importing the method\n",
    "from scipy.optimize import curve_fit\n",
    "\n",
    "# defining the function\n",
    "def func(x, a, b):\n",
    "    return a*x**2 + b\n",
    "\n",
    "\n",
    "popt, pcov = curve_fit(func, x_data, y_data, p0=(1, 1))\n"
   ]
  },
  {
   "cell_type": "code",
   "execution_count": 104,
   "metadata": {},
   "outputs": [
    {
     "data": {
      "text/plain": [
       "array([3., 2.])"
      ]
     },
     "execution_count": 104,
     "metadata": {},
     "output_type": "execute_result"
    }
   ],
   "source": [
    "popt"
   ]
  },
  {
   "cell_type": "markdown",
   "metadata": {},
   "source": [
    "*Real Example from Physics*"
   ]
  },
  {
   "cell_type": "markdown",
   "metadata": {},
   "source": [
    "The equation for spring motion is $y(t) = A\\cos(\\omega t+\\phi)$. Want to find the natural frequency of oscillation $\\omega$ for the spring. You collect the data"
   ]
  },
  {
   "cell_type": "code",
   "execution_count": 105,
   "metadata": {},
   "outputs": [],
   "source": [
    "t_data = np.array([0.,  0.34482759,  0.68965517,  1.03448276,  1.37931034,\n",
    "                   1.72413793,  2.06896552,  2.4137931,  2.75862069,  3.10344828,\n",
    "                   3.44827586,  3.79310345,  4.13793103,  4.48275862,  4.82758621,\n",
    "                   5.17241379,  5.51724138,  5.86206897,  6.20689655,  6.55172414,\n",
    "                   6.89655172,  7.24137931,  7.5862069,  7.93103448,  8.27586207,\n",
    "                   8.62068966,  8.96551724,  9.31034483,  9.65517241, 10.])\n",
    "y_data = np.array([4.3303953,  1.61137995, -2.15418696, -3.90137249, -1.67259042,\n",
    "                   2.16884383,  3.86635998,  1.85194506, -1.8489224, -3.96560495,\n",
    "                   -2.13385255,  1.59425817,  4.06145238,  1.89300594, -1.76870297,\n",
    "                   -4.26791226, -2.46874133,  1.37019912,  4.24945607,  2.27038039,\n",
    "                   -1.50299303, -3.46774049, -2.50845488,  1.20022052,  3.81633703,\n",
    "                   2.91511556, -1.24569189, -3.72716214, -2.54549857,  0.87262548])\n"
   ]
  },
  {
   "cell_type": "code",
   "execution_count": 106,
   "metadata": {},
   "outputs": [
    {
     "data": {
      "text/plain": [
       "[<matplotlib.lines.Line2D at 0x6de4400>]"
      ]
     },
     "execution_count": 106,
     "metadata": {},
     "output_type": "execute_result"
    },
    {
     "data": {
      "image/png": "[encoded data removed]",
      "text/plain": [
       "<Figure size 432x288 with 1 Axes>"
      ]
     },
     "metadata": {
      "needs_background": "light"
     },
     "output_type": "display_data"
    }
   ],
   "source": [
    "plt.plot(t_data, y_data, 'o--')"
   ]
  },
  {
   "cell_type": "markdown",
   "metadata": {},
   "source": [
    "$\\omega = 2 \\pi f$, $f = 1/T$, and $T \\approx 2$ seconds. Thus good initial guess is\n",
    "\n",
    "*   $\\omega = 2 \\pi(1/2) = \\pi$\n",
    "*   $A = 4$\n",
    "*   $\\phi = 0$"
   ]
  },
  {
   "cell_type": "code",
   "execution_count": 107,
   "metadata": {},
   "outputs": [
    {
     "data": {
      "text/plain": [
       "array([3.94836218, 2.99899521, 0.10411348])"
      ]
     },
     "execution_count": 107,
     "metadata": {},
     "output_type": "execute_result"
    }
   ],
   "source": [
    "from scipy.optimize import curve_fit\n",
    "\n",
    "\n",
    "def func(x, A, w, phi):\n",
    "    return A*np.cos(w*x+phi)\n",
    "\n",
    "\n",
    "# Guess Should Be Logical, Otherwise The Fitting Will Be Horrible\n",
    "popt, pcov = curve_fit(func, t_data, y_data, p0=(4, np.pi, 0))\n",
    "\n",
    "popt   # gives value most probable value of A, w and phi respectively\n"
   ]
  },
  {
   "cell_type": "code",
   "execution_count": 108,
   "metadata": {},
   "outputs": [],
   "source": [
    "#  parameters\n",
    "A, w, phi = popt"
   ]
  },
  {
   "cell_type": "code",
   "execution_count": 109,
   "metadata": {},
   "outputs": [],
   "source": [
    "t = np.linspace(0, 10, 100)\n",
    "y = func(t, A, w, phi)"
   ]
  },
  {
   "cell_type": "code",
   "execution_count": 110,
   "metadata": {},
   "outputs": [
    {
     "data": {
      "text/plain": [
       "[<matplotlib.lines.Line2D at 0x6e11d48>]"
      ]
     },
     "execution_count": 110,
     "metadata": {},
     "output_type": "execute_result"
    },
    {
     "data": {
      "image/png": "[encoded data removed]",
      "text/plain": [
       "<Figure size 432x288 with 1 Axes>"
      ]
     },
     "metadata": {
      "needs_background": "light"
     },
     "output_type": "display_data"
    }
   ],
   "source": [
    "plt.scatter(t_data, y_data)\n",
    "plt.plot(t, y)"
   ]
  },
  {
   "cell_type": "code",
   "execution_count": 111,
   "metadata": {},
   "outputs": [
    {
     "data": {
      "text/plain": [
       "array([2.61882717e-03, 1.85638053e-05, 6.63424623e-04])"
      ]
     },
     "execution_count": 111,
     "metadata": {},
     "output_type": "execute_result"
    }
   ],
   "source": [
    "np.diag(pcov)   # the deviation of parameters"
   ]
  },
  {
   "cell_type": "code",
   "execution_count": 112,
   "metadata": {},
   "outputs": [
    {
     "data": {
      "text/plain": [
       "array([0.05117448, 0.00430857, 0.02575703])"
      ]
     },
     "execution_count": 112,
     "metadata": {},
     "output_type": "execute_result"
    }
   ],
   "source": [
    "np.sqrt(np.diag(pcov))   # error in calculation of parameters"
   ]
  },
  {
   "cell_type": "markdown",
   "id": "a8675699",
   "metadata": {},
   "source": [
    "## Special Functions"
   ]
  },
  {
   "cell_type": "markdown",
   "id": "114c0786",
   "metadata": {},
   "source": [
    "**Legendre Polynomials:** <br><br> $P_l(x)$: satisfy $(1-x^2)y'' -2xy'+l(l+1)y = 0$\n",
    "*   The angular component of the spherical Schrodinger Equation which permits non-infinite \n"
   ]
  },
  {
   "cell_type": "code",
   "execution_count": 113,
   "id": "d2069d23",
   "metadata": {},
   "outputs": [
    {
     "data": {
      "image/png": "[encoded data removed]",
      "text/plain": [
       "<Figure size 432x288 with 1 Axes>"
      ]
     },
     "metadata": {
      "needs_background": "light"
     },
     "output_type": "display_data"
    }
   ],
   "source": [
    "# importing and defining the legendre polynomial equation\n",
    "from scipy.special import legendre\n",
    "x = np.linspace(0, 1, 100)\n",
    "plt.plot(x, legendre(6)(x))\n",
    "plt.show()"
   ]
  },
  {
   "cell_type": "code",
   "execution_count": 114,
   "id": "f869113f",
   "metadata": {},
   "outputs": [
    {
     "data": {
      "text/plain": [
       "poly1d([ 1.44375000e+01,  0.00000000e+00, -1.96875000e+01,  1.60288449e-15,\n",
       "        6.56250000e+00,  0.00000000e+00, -3.12500000e-01])"
      ]
     },
     "execution_count": 114,
     "metadata": {},
     "output_type": "execute_result"
    }
   ],
   "source": [
    "legendre(6)"
   ]
  },
  {
   "cell_type": "markdown",
   "id": "d46bdd8e",
   "metadata": {},
   "source": [
    "**Bessel functions:**<br><br> $J_{\\alpha}(x)$: satisfy $x^2 y'' + xy' + (x^2-\\alpha^2)y = 0$\n",
    "\n",
    "*   Laplace's Equation in Polar Coordinates"
   ]
  },
  {
   "cell_type": "code",
   "execution_count": 115,
   "id": "2dbf8dc2",
   "metadata": {},
   "outputs": [
    {
     "data": {
      "image/png": "[encoded data removed]",
      "text/plain": [
       "<Figure size 432x288 with 1 Axes>"
      ]
     },
     "metadata": {
      "needs_background": "light"
     },
     "output_type": "display_data"
    }
   ],
   "source": [
    "from scipy.special import jv\n",
    "x = np.linspace(0, 10, 100)\n",
    "plt.plot(x, jv(3,x))\n",
    "plt.show()"
   ]
  },
  {
   "cell_type": "markdown",
   "id": "df75c2bc",
   "metadata": {},
   "source": [
    "## Calculus"
   ]
  },
  {
   "cell_type": "markdown",
   "id": "f7ea3000",
   "metadata": {},
   "source": [
    "### Differentiation"
   ]
  },
  {
   "cell_type": "markdown",
   "id": "2b591b7b",
   "metadata": {},
   "source": [
    "Differentiation of the following equation - <br> $$x^2\\sin{(2x)}e^{-x}$$"
   ]
  },
  {
   "cell_type": "code",
   "execution_count": 116,
   "id": "7c52b613",
   "metadata": {},
   "outputs": [],
   "source": [
    "from scipy.misc import derivative"
   ]
  },
  {
   "cell_type": "code",
   "execution_count": 117,
   "id": "8184c924",
   "metadata": {},
   "outputs": [],
   "source": [
    "def f(x):\n",
    "    return x**2 * np.sin(2*x) * np.exp(-x)\n",
    "\n",
    "x = np.linspace(0, 1, 100)"
   ]
  },
  {
   "cell_type": "code",
   "execution_count": 118,
   "id": "e70fcaf0",
   "metadata": {},
   "outputs": [
    {
     "data": {
      "text/plain": [
       "[<matplotlib.lines.Line2D at 0x6ebc8b0>]"
      ]
     },
     "execution_count": 118,
     "metadata": {},
     "output_type": "execute_result"
    },
    {
     "data": {
      "image/png": "[encoded data removed]",
      "text/plain": [
       "<Figure size 432x288 with 1 Axes>"
      ]
     },
     "metadata": {
      "needs_background": "light"
     },
     "output_type": "display_data"
    }
   ],
   "source": [
    "plt.plot(x, f(x))   # plotting the function\n",
    "plt.plot(x, derivative(f, x, dx=1e-6))   # 1e-6 separation between two points\n",
    "plt.plot(x, derivative(f, x, dx=1e-6, n=2))   # 2nd order derivative"
   ]
  },
  {
   "cell_type": "markdown",
   "id": "e1fe54f9",
   "metadata": {},
   "source": [
    "### Integration"
   ]
  },
  {
   "cell_type": "markdown",
   "id": "ccf4998f",
   "metadata": {},
   "source": [
    "Integration of the following single integral-<br> $$\\int_{0}^1 x^2\\sin{(2x)}e^{-x}dx$$\n"
   ]
  },
  {
   "cell_type": "code",
   "execution_count": 119,
   "id": "961ef268",
   "metadata": {},
   "outputs": [],
   "source": [
    "\n",
    "from scipy.integrate import quad   # quad method handels the single integration part\n",
    "def integrand(x): return x**2 * np.sin(2*x) * np.exp(-x)\n",
    "integral, integral_error = quad(integrand, 0, 1)\n",
    "\n",
    "# Following lines mean same as previous (using lambda function)\n",
    "\n",
    "# integrand = lambda x: x**2 * np.sin(2*x) * np.exp(-x)\n",
    "# integral, integral_error = quad(integrand, 0, 1)\n"
   ]
  },
  {
   "cell_type": "code",
   "execution_count": 120,
   "id": "db42ee7e",
   "metadata": {},
   "outputs": [
    {
     "data": {
      "text/plain": [
       "0.14558175869954834"
      ]
     },
     "execution_count": 120,
     "metadata": {},
     "output_type": "execute_result"
    }
   ],
   "source": [
    "integral   # value of the integration"
   ]
  },
  {
   "cell_type": "code",
   "execution_count": 121,
   "metadata": {},
   "outputs": [
    {
     "data": {
      "text/plain": [
       "1.6162822047366225e-15"
      ]
     },
     "execution_count": 121,
     "metadata": {},
     "output_type": "execute_result"
    }
   ],
   "source": [
    "integral_error   # error in the integration value calculation"
   ]
  },
  {
   "cell_type": "markdown",
   "id": "9408e806",
   "metadata": {},
   "source": [
    "Integration of the following double integral-<br> $$\\int_{0}^1\\int_{-x}^{x^2}\\sin{(x+y^2)}\\,dydx$$"
   ]
  },
  {
   "cell_type": "code",
   "execution_count": 122,
   "id": "5d8a8aa7",
   "metadata": {},
   "outputs": [],
   "source": [
    "from scipy.integrate import dblquad   # dblquad method handels the double integration part\n",
    "def integrand(y, x): return np.sin(x+y**2)\n",
    "def lwr_y(x): return -x\n",
    "def upr_y(x): return x**2\n",
    "integral, integral_error = dblquad(integrand, 0, 1, lwr_y, upr_y)\n",
    "\n",
    "# Following lines mean same as previous (using lambda function)\n",
    "\n",
    "# integrand = lambda y, x: np.sin(x+y**2)\n",
    "# lwr_y = lambda x: -x\n",
    "# upr_y = lambda x: x**2\n",
    "# integral, integral_error = dblquad(integrand, 0, 1, lwr_y, upr_y)"
   ]
  },
  {
   "cell_type": "code",
   "execution_count": 123,
   "id": "9709a656",
   "metadata": {},
   "outputs": [
    {
     "data": {
      "text/plain": [
       "0.590090324408853"
      ]
     },
     "execution_count": 123,
     "metadata": {},
     "output_type": "execute_result"
    }
   ],
   "source": [
    "integral"
   ]
  },
  {
   "cell_type": "code",
   "execution_count": 124,
   "id": "e3a451b7",
   "metadata": {},
   "outputs": [
    {
     "data": {
      "text/plain": [
       "2.0545915475811425e-14"
      ]
     },
     "execution_count": 124,
     "metadata": {},
     "output_type": "execute_result"
    }
   ],
   "source": [
    "integral_error"
   ]
  },
  {
   "cell_type": "markdown",
   "id": "9cca7b79",
   "metadata": {},
   "source": [
    "## Differential Equations"
   ]
  },
  {
   "cell_type": "markdown",
   "id": "cb0cd827",
   "metadata": {},
   "source": [
    "### Single First order ODEs\n",
    "**ODE** $\\equiv$ **Ordinary Differential Equations**\n",
    "\n",
    "Air friction while falling<br> $$v^{'}-\\alpha v^2+ \\beta = 0 \\hspace {10mm} v(0) = 0$$  "
   ]
  },
  {
   "cell_type": "code",
   "execution_count": 125,
   "id": "cab2df26",
   "metadata": {},
   "outputs": [],
   "source": [
    "from scipy.integrate import odeint   # importing the library for solving ordinary differential equation"
   ]
  },
  {
   "cell_type": "code",
   "execution_count": 126,
   "id": "046d4e36",
   "metadata": {},
   "outputs": [],
   "source": [
    "def dvdt(v, t):\n",
    "    return 3*v**2 - 5 \n",
    "\n",
    "v0 = 0   # initial condition"
   ]
  },
  {
   "cell_type": "markdown",
   "id": "c45059b5",
   "metadata": {},
   "source": [
    "I'm returning the value of $\\alpha$ and $\\beta$, 3 and 5 respectively (arbitary) in the equation $v^{'}=\\alpha v^2+\\beta$"
   ]
  },
  {
   "cell_type": "code",
   "execution_count": 127,
   "id": "e849fae2",
   "metadata": {},
   "outputs": [],
   "source": [
    "t = np.linspace(0, 1, 100)   # within a timerange (unitless in SciPy, only value we get) of 0 and 1\n",
    "sol = odeint(dvdt, v0, t)"
   ]
  },
  {
   "cell_type": "code",
   "execution_count": 128,
   "id": "147ce3d4",
   "metadata": {},
   "outputs": [
    {
     "data": {
      "text/plain": [
       "array([ 0.        , -0.05047933, -0.10080451, -0.15082334, -0.20038726,\n",
       "       -0.24935318, -0.29758502, -0.34495519, -0.39134576, -0.43664948,\n",
       "       -0.48077056, -0.52362515, -0.56514164, -0.60526086, -0.6439356 ,\n",
       "       -0.68113064, -0.71682205, -0.75099661, -0.78365109, -0.8147914 ,\n",
       "       -0.84443176, -0.87259378, -0.89930556, -0.92460079, -0.94851787,\n",
       "       -0.97109913, -0.99239002, -1.01243837, -1.03129376, -1.04900692,\n",
       "       -1.06562918, -1.081212  , -1.0958066 , -1.10946355, -1.12223249,\n",
       "       -1.13416195, -1.14529906, -1.15568941, -1.16537698, -1.17440397,\n",
       "       -1.18281086, -1.19063623, -1.19791686, -1.20468768, -1.21098179,\n",
       "       -1.21683053, -1.22226349, -1.22730856, -1.23199199, -1.23633849,\n",
       "       -1.24037122, -1.24411192, -1.24758094, -1.25079735, -1.25377896,\n",
       "       -1.25654241, -1.25910322, -1.2614759 , -1.26367394, -1.26570992,\n",
       "       -1.26759557, -1.26934179, -1.27095869, -1.27245574, -1.27384168,\n",
       "       -1.27512464, -1.2763122 , -1.27741137, -1.27842865, -1.27937009,\n",
       "       -1.28024128, -1.28104744, -1.28179338, -1.28248356, -1.28312213,\n",
       "       -1.28371292, -1.2842595 , -1.28476514, -1.2852329 , -1.28566562,\n",
       "       -1.2860659 , -1.28643616, -1.28677865, -1.28709545, -1.28738847,\n",
       "       -1.28765951, -1.28791021, -1.28814208, -1.28835653, -1.28855487,\n",
       "       -1.28873831, -1.28890797, -1.28906488, -1.28920999, -1.2893442 ,\n",
       "       -1.28946833, -1.28958312, -1.28968929, -1.28978746, -1.28987826])"
      ]
     },
     "execution_count": 128,
     "metadata": {},
     "output_type": "execute_result"
    }
   ],
   "source": [
    "sol.T[0]   # values for the solution after taking the transpose (changing into a single row matrix)"
   ]
  },
  {
   "cell_type": "code",
   "execution_count": 129,
   "id": "bd90ae14",
   "metadata": {},
   "outputs": [
    {
     "data": {
      "text/plain": [
       "[<matplotlib.lines.Line2D at 0x6e26ef8>]"
      ]
     },
     "execution_count": 129,
     "metadata": {},
     "output_type": "execute_result"
    },
    {
     "data": {
      "image/png": "[encoded data removed]",
      "text/plain": [
       "<Figure size 432x288 with 1 Axes>"
      ]
     },
     "metadata": {
      "needs_background": "light"
     },
     "output_type": "display_data"
    }
   ],
   "source": [
    "plt.plot(t, sol.T[0])   # plot for the solution"
   ]
  },
  {
   "cell_type": "markdown",
   "id": "7d00f1ab",
   "metadata": {},
   "source": [
    "### Coupled First Order ODEs"
   ]
  },
  {
   "cell_type": "markdown",
   "id": "e9dc2b07",
   "metadata": {},
   "source": [
    "$$y^{'}=y_1+y^2_2+3x\\hspace{10mm}y_1(0)=0$$\n",
    "$$y^{'}_2=3y_1+y^3_2-\\cos(x)\\hspace{10mm}y_2(0)=0$$\n",
    "Letting $S=(y_1, y_2)$ we need to write a function that returns $dS/dx = (dy_1/dx, dy_2/dx)$. The function $dS/dx$ can take in $S=(y_1, y_2)$ and $x$"
   ]
  },
  {
   "cell_type": "code",
   "execution_count": 130,
   "id": "6e822d30",
   "metadata": {},
   "outputs": [],
   "source": [
    "def dSdx(S, x):\n",
    "    y1, y2 = S\n",
    "    return [y1 + y2**2 + 3*x, 3*y1 + y2**3 - np.cos(x)]   # returns (dy1/dx and dy2/dx)\n",
    "\n",
    "# initial conditions\n",
    "y1_0 = 0\n",
    "y2_0 = 0\n",
    "\n",
    "# giving S the value of initial conditions\n",
    "S_0 = (y1_0, y2_0)"
   ]
  },
  {
   "cell_type": "code",
   "execution_count": 131,
   "id": "26a7e915",
   "metadata": {},
   "outputs": [],
   "source": [
    "x = np.linspace(0, 1, 100)   # solvind for 100 values between the value of x 0 and 1\n",
    "sol = odeint(dSdx, S_0, x)"
   ]
  },
  {
   "cell_type": "code",
   "execution_count": 135,
   "id": "fcb8f35d",
   "metadata": {},
   "outputs": [
    {
     "data": {
      "text/plain": [
       "array([[ 0.00000000e+00,  0.00000000e+00],\n",
       "       [ 1.53914061e-04, -1.00992734e-02],\n",
       "       [ 6.19093356e-04, -2.01882005e-02],\n",
       "       [ 1.40076628e-03, -3.02563164e-02],\n",
       "       [ 2.50418953e-03, -4.02930766e-02],\n",
       "       [ 3.93464633e-03, -5.02878361e-02],\n",
       "       [ 5.69744401e-03, -6.02298432e-02],\n",
       "       [ 7.79789517e-03, -7.01082428e-02],\n",
       "       [ 1.02413187e-02, -7.99120712e-02],\n",
       "       [ 1.30330245e-02, -8.96302498e-02],\n",
       "       [ 1.61783065e-02, -9.92515816e-02],\n",
       "       [ 1.96824391e-02, -1.08764749e-01],\n",
       "       [ 2.35506573e-02, -1.18158303e-01],\n",
       "       [ 2.77881638e-02, -1.27420669e-01],\n",
       "       [ 3.24001125e-02, -1.36540133e-01],\n",
       "       [ 3.73915921e-02, -1.45504834e-01],\n",
       "       [ 4.27676179e-02, -1.54302762e-01],\n",
       "       [ 4.85331404e-02, -1.62921756e-01],\n",
       "       [ 5.46930282e-02, -1.71349495e-01],\n",
       "       [ 6.12520553e-02, -1.79573493e-01],\n",
       "       [ 6.82148995e-02, -1.87581095e-01],\n",
       "       [ 7.55861308e-02, -1.95359467e-01],\n",
       "       [ 8.33702071e-02, -2.02895598e-01],\n",
       "       [ 9.15714669e-02, -2.10176290e-01],\n",
       "       [ 1.00194121e-01, -2.17188157e-01],\n",
       "       [ 1.09242251e-01, -2.23917621e-01],\n",
       "       [ 1.18719801e-01, -2.30350906e-01],\n",
       "       [ 1.28630571e-01, -2.36474041e-01],\n",
       "       [ 1.38978219e-01, -2.42272857e-01],\n",
       "       [ 1.49766252e-01, -2.47732981e-01],\n",
       "       [ 1.60998020e-01, -2.52839835e-01],\n",
       "       [ 1.72676732e-01, -2.57578659e-01],\n",
       "       [ 1.84805434e-01, -2.61934483e-01],\n",
       "       [ 1.97387014e-01, -2.65892141e-01],\n",
       "       [ 2.10424222e-01, -2.69436297e-01],\n",
       "       [ 2.23919648e-01, -2.72551418e-01],\n",
       "       [ 2.37875730e-01, -2.75221791e-01],\n",
       "       [ 2.52294784e-01, -2.77431559e-01],\n",
       "       [ 2.67178978e-01, -2.79164693e-01],\n",
       "       [ 2.82530347e-01, -2.80405012e-01],\n",
       "       [ 2.98350829e-01, -2.81136222e-01],\n",
       "       [ 3.14642248e-01, -2.81341905e-01],\n",
       "       [ 3.31406342e-01, -2.81005542e-01],\n",
       "       [ 3.48644774e-01, -2.80110529e-01],\n",
       "       [ 3.66359140e-01, -2.78640187e-01],\n",
       "       [ 3.84551013e-01, -2.76577800e-01],\n",
       "       [ 4.03221942e-01, -2.73906616e-01],\n",
       "       [ 4.22373488e-01, -2.70609873e-01],\n",
       "       [ 4.42007253e-01, -2.66670823e-01],\n",
       "       [ 4.62124894e-01, -2.62072745e-01],\n",
       "       [ 4.82728181e-01, -2.56798966e-01],\n",
       "       [ 5.03819005e-01, -2.50832883e-01],\n",
       "       [ 5.25399429e-01, -2.44157971e-01],\n",
       "       [ 5.47471735e-01, -2.36757804e-01],\n",
       "       [ 5.70038442e-01, -2.28616068e-01],\n",
       "       [ 5.93102385e-01, -2.19716553e-01],\n",
       "       [ 6.16666735e-01, -2.10043183e-01],\n",
       "       [ 6.40735063e-01, -1.99579993e-01],\n",
       "       [ 6.65311401e-01, -1.88311119e-01],\n",
       "       [ 6.90400276e-01, -1.76220821e-01],\n",
       "       [ 7.16006799e-01, -1.63293405e-01],\n",
       "       [ 7.42136714e-01, -1.49513226e-01],\n",
       "       [ 7.68796463e-01, -1.34864636e-01],\n",
       "       [ 7.95993253e-01, -1.19331954e-01],\n",
       "       [ 8.23735143e-01, -1.02899359e-01],\n",
       "       [ 8.52031104e-01, -8.55508556e-02],\n",
       "       [ 8.80891112e-01, -6.72701355e-02],\n",
       "       [ 9.10326223e-01, -4.80405161e-02],\n",
       "       [ 9.40348671e-01, -2.78447548e-02],\n",
       "       [ 9.70971957e-01, -6.66492984e-03],\n",
       "       [ 1.00221095e+00,  1.55177321e-02],\n",
       "       [ 1.03408198e+00,  3.87230761e-02],\n",
       "       [ 1.06660299e+00,  6.29722272e-02],\n",
       "       [ 1.09979361e+00,  8.82878711e-02],\n",
       "       [ 1.13367532e+00,  1.14694542e-01],\n",
       "       [ 1.16827157e+00,  1.42218950e-01],\n",
       "       [ 1.20360797e+00,  1.70890394e-01],\n",
       "       [ 1.23971243e+00,  2.00741167e-01],\n",
       "       [ 1.27661538e+00,  2.31807067e-01],\n",
       "       [ 1.31434994e+00,  2.64127972e-01],\n",
       "       [ 1.35295223e+00,  2.97748502e-01],\n",
       "       [ 1.39246158e+00,  3.32718734e-01],\n",
       "       [ 1.43292087e+00,  3.69095107e-01],\n",
       "       [ 1.47437687e+00,  4.06941417e-01],\n",
       "       [ 1.51688069e+00,  4.46329999e-01],\n",
       "       [ 1.56048820e+00,  4.87343105e-01],\n",
       "       [ 1.60526063e+00,  5.30074560e-01],\n",
       "       [ 1.65126523e+00,  5.74631731e-01],\n",
       "       [ 1.69857604e+00,  6.21137874e-01],\n",
       "       [ 1.74727479e+00,  6.69734974e-01],\n",
       "       [ 1.79745207e+00,  7.20587249e-01],\n",
       "       [ 1.84920864e+00,  7.73885430e-01],\n",
       "       [ 1.90265708e+00,  8.29852098e-01],\n",
       "       [ 1.95792385e+00,  8.88748463e-01],\n",
       "       [ 2.01515175e+00,  9.50882831e-01],\n",
       "       [ 2.07450310e+00,  1.01662163e+00],\n",
       "       [ 2.13616376e+00,  1.08640368e+00],\n",
       "       [ 2.20034823e+00,  1.16075924e+00],\n",
       "       [ 2.26730636e+00,  1.24033522e+00],\n",
       "       [ 2.33733216e+00,  1.32592999e+00]])"
      ]
     },
     "execution_count": 135,
     "metadata": {},
     "output_type": "execute_result"
    }
   ],
   "source": [
    "sol   # it gives an array of values of y1 and y2 at every value of x between 0 and 1"
   ]
  },
  {
   "cell_type": "code",
   "execution_count": 133,
   "id": "5cb133ea",
   "metadata": {},
   "outputs": [],
   "source": [
    "y1 = sol.T[0]\n",
    "y2 = sol.T[1]"
   ]
  },
  {
   "cell_type": "code",
   "execution_count": 136,
   "id": "236bd172",
   "metadata": {},
   "outputs": [
    {
     "data": {
      "text/plain": [
       "[<matplotlib.lines.Line2D at 0x6e2d418>]"
      ]
     },
     "execution_count": 136,
     "metadata": {},
     "output_type": "execute_result"
    },
    {
     "data": {
      "image/png": "[encoded data removed]",
      "text/plain": [
       "<Figure size 432x288 with 1 Axes>"
      ]
     },
     "metadata": {
      "needs_background": "light"
     },
     "output_type": "display_data"
    }
   ],
   "source": [
    "# gives the plot for above coupled first order ODE\n",
    "plt.plot(x, y1)\n",
    "plt.plot(x, y2)"
   ]
  },
  {
   "cell_type": "markdown",
   "id": "bf31338c",
   "metadata": {},
   "source": [
    "### Second Order ODE\n",
    "\n",
    "Equation for a pendulum\n",
    "\n",
    "$$\\theta'' - \\sin(\\theta) = 0$$\n",
    "* Scipy can only solve coupled first order ODEs, but any second order ODE can be turned into two coupled first order ODEs. The same thing goes for higher order ODEs.\n",
    "\n",
    "Define $\\omega = d\\theta/dt$ so that one has the following coupled ODEs\n",
    "\n",
    "$$d \\omega / dt = \\sin(\\theta)$$ \n",
    "$$d \\theta / dt = \\omega $$\n",
    "Let $S = (\\theta, \\omega)$\n"
   ]
  },
  {
   "cell_type": "code",
   "execution_count": 140,
   "id": "15154079",
   "metadata": {},
   "outputs": [],
   "source": [
    "def dSdt(S, t):\n",
    "    theta, omega = S\n",
    "    return [omega, np.sin(theta)]\n",
    "\n",
    "theta0 = np.pi/4\n",
    "omega0 = 0\n",
    "S0 = (theta0, omega0)\n"
   ]
  },
  {
   "cell_type": "code",
   "execution_count": 138,
   "id": "0f61d52f",
   "metadata": {},
   "outputs": [],
   "source": [
    "t = np.linspace(0, 20, 100)\n",
    "sol = odeint(dSdt, S0, t)\n",
    "theta, omega = sol.T\n"
   ]
  },
  {
   "cell_type": "code",
   "execution_count": 139,
   "id": "bffd15e0",
   "metadata": {},
   "outputs": [
    {
     "data": {
      "image/png": "[encoded data removed]",
      "text/plain": [
       "<Figure size 432x288 with 1 Axes>"
      ]
     },
     "metadata": {
      "needs_background": "light"
     },
     "output_type": "display_data"
    }
   ],
   "source": [
    "plt.plot(t, theta)\n",
    "plt.show()\n"
   ]
  },
  {
   "cell_type": "code",
   "execution_count": null,
   "id": "8ca976f3",
   "metadata": {},
   "outputs": [],
   "source": []
  }
 ],
 "metadata": {
  "interpreter": {
   "hash": "5553b2f5b6fc7423c7266353f8ddfaec66dcb4d780d6f38bc66234331c03dcf2"
  },
  "kernelspec": {
   "display_name": "Python 3.8.5 32-bit",
   "name": "python3"
  },
  "language_info": {
   "codemirror_mode": {
    "name": "ipython",
    "version": 3
   },
   "file_extension": ".py",
   "mimetype": "text/x-python",
   "name": "python",
   "nbconvert_exporter": "python",
   "pygments_lexer": "ipython3",
   "version": "3.8.5"
  }
 },
 "nbformat": 4,
 "nbformat_minor": 5
}
